{
 "cells": [
  {
   "cell_type": "code",
   "execution_count": 2,
   "metadata": {},
   "outputs": [],
   "source": [
    "import pandas as pd"
   ]
  },
  {
   "cell_type": "markdown",
   "metadata": {},
   "source": [
    "## Series"
   ]
  },
  {
   "cell_type": "code",
   "execution_count": 4,
   "metadata": {},
   "outputs": [
    {
     "data": {
      "text/plain": [
       "name       Luis\n",
       "country     USA\n",
       "age          40\n",
       "dtype: object"
      ]
     },
     "execution_count": 4,
     "metadata": {},
     "output_type": "execute_result"
    }
   ],
   "source": [
    "students = pd.Series(data=['Luis', 'USA', 40], index=[\"name\", \"country\", \"age\"])\n",
    "students"
   ]
  },
  {
   "cell_type": "code",
   "execution_count": 9,
   "metadata": {},
   "outputs": [
    {
     "name": "stdout",
     "output_type": "stream",
     "text": [
      "(3,)\n",
      "1\n",
      "3\n",
      "Index(['name', 'country', 'age'], dtype='object')\n",
      "['Luis' 'USA' 40]\n",
      "object\n",
      "None\n",
      "name       Luis\n",
      "country     USA\n",
      "dtype: object\n",
      "country    USA\n",
      "age         40\n",
      "dtype: object\n",
      "count        3\n",
      "unique       3\n",
      "top       Luis\n",
      "freq         1\n",
      "dtype: object\n",
      "True\n",
      "False\n",
      "False\n",
      "name       False\n",
      "country    False\n",
      "age        False\n",
      "dtype: bool\n",
      "name       True\n",
      "country    True\n",
      "age        True\n",
      "dtype: bool\n",
      "age          40\n",
      "country     USA\n",
      "name       Luis\n",
      "dtype: object\n"
     ]
    }
   ],
   "source": [
    "print(students.shape)\n",
    "print(students.ndim)\n",
    "print(students.size)\n",
    "print(students.index)\n",
    "print(students.values)\n",
    "print(students.dtype)\n",
    "print(students.name)\n",
    "print(students.head(2))\n",
    "print(students.tail(2))\n",
    "print(students.describe())\n",
    "print(students.is_unique)\n",
    "print(students.is_monotonic_decreasing)\n",
    "print(students.is_monotonic_increasing)\n",
    "print(students.isnull())\n",
    "print(students.notnull())\n",
    "print(students.sort_index())\n"
   ]
  },
  {
   "cell_type": "code",
   "execution_count": 11,
   "metadata": {},
   "outputs": [
    {
     "name": "stdout",
     "output_type": "stream",
     "text": [
      "True\n"
     ]
    }
   ],
   "source": [
    "print('name' in students)"
   ]
  }
 ],
 "metadata": {
  "kernelspec": {
   "display_name": "base",
   "language": "python",
   "name": "python3"
  },
  "language_info": {
   "codemirror_mode": {
    "name": "ipython",
    "version": 3
   },
   "file_extension": ".py",
   "mimetype": "text/x-python",
   "name": "python",
   "nbconvert_exporter": "python",
   "pygments_lexer": "ipython3",
   "version": "3.11.0"
  }
 },
 "nbformat": 4,
 "nbformat_minor": 2
}
