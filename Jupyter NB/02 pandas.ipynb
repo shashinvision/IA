{
 "cells": [
  {
   "cell_type": "code",
   "execution_count": 2,
   "metadata": {},
   "outputs": [],
   "source": [
    "import pandas as pd"
   ]
  },
  {
   "cell_type": "markdown",
   "metadata": {},
   "source": [
    "## Series"
   ]
  },
  {
   "cell_type": "code",
   "execution_count": 32,
   "metadata": {},
   "outputs": [
    {
     "data": {
      "text/plain": [
       "name       Luis\n",
       "country     USA\n",
       "age          40\n",
       "dtype: object"
      ]
     },
     "execution_count": 32,
     "metadata": {},
     "output_type": "execute_result"
    }
   ],
   "source": [
    "students = pd.Series(data=['Luis', 'USA', 40], index=[\"name\", \"country\", \"age\"])\n",
    "students"
   ]
  },
  {
   "cell_type": "code",
   "execution_count": 9,
   "metadata": {},
   "outputs": [
    {
     "name": "stdout",
     "output_type": "stream",
     "text": [
      "(3,)\n",
      "1\n",
      "3\n",
      "Index(['name', 'country', 'age'], dtype='object')\n",
      "['Luis' 'USA' 40]\n",
      "object\n",
      "None\n",
      "name       Luis\n",
      "country     USA\n",
      "dtype: object\n",
      "country    USA\n",
      "age         40\n",
      "dtype: object\n",
      "count        3\n",
      "unique       3\n",
      "top       Luis\n",
      "freq         1\n",
      "dtype: object\n",
      "True\n",
      "False\n",
      "False\n",
      "name       False\n",
      "country    False\n",
      "age        False\n",
      "dtype: bool\n",
      "name       True\n",
      "country    True\n",
      "age        True\n",
      "dtype: bool\n",
      "age          40\n",
      "country     USA\n",
      "name       Luis\n",
      "dtype: object\n"
     ]
    }
   ],
   "source": [
    "print(students.shape)\n",
    "print(students.ndim)\n",
    "print(students.size)\n",
    "print(students.index)\n",
    "print(students.values)\n",
    "print(students.dtype)\n",
    "print(students.name)\n",
    "print(students.head(2))\n",
    "print(students.tail(2))\n",
    "print(students.describe())\n",
    "print(students.is_unique)\n",
    "print(students.is_monotonic_decreasing)\n",
    "print(students.is_monotonic_increasing)\n",
    "print(students.isnull())\n",
    "print(students.notnull())\n",
    "print(students.sort_index())\n"
   ]
  },
  {
   "cell_type": "code",
   "execution_count": 11,
   "metadata": {},
   "outputs": [
    {
     "name": "stdout",
     "output_type": "stream",
     "text": [
      "True\n"
     ]
    }
   ],
   "source": [
    "print('name' in students)"
   ]
  },
  {
   "cell_type": "markdown",
   "metadata": {},
   "source": [
    "## ADD and Delete Elements on series"
   ]
  },
  {
   "cell_type": "code",
   "execution_count": null,
   "metadata": {},
   "outputs": [
    {
     "name": "stdout",
     "output_type": "stream",
     "text": [
      "40\n"
     ]
    }
   ],
   "source": [
    "print(students['age'])\n",
    "print(students.get('age'))"
   ]
  },
  {
   "cell_type": "code",
   "execution_count": 14,
   "metadata": {},
   "outputs": [
    {
     "name": "stdout",
     "output_type": "stream",
     "text": [
      "name    Luis\n",
      "age       40\n",
      "dtype: object\n"
     ]
    }
   ],
   "source": [
    "print(students[['name', 'age']])"
   ]
  },
  {
   "cell_type": "code",
   "execution_count": 15,
   "metadata": {},
   "outputs": [
    {
     "name": "stdout",
     "output_type": "stream",
     "text": [
      "USA\n"
     ]
    },
    {
     "name": "stderr",
     "output_type": "stream",
     "text": [
      "/var/folders/dt/lf4ysknn6qzfqykdrps5_pxc0000gn/T/ipykernel_70391/1220065647.py:1: FutureWarning: Series.__getitem__ treating keys as positions is deprecated. In a future version, integer keys will always be treated as labels (consistent with DataFrame behavior). To access a value by position, use `ser.iloc[pos]`\n",
      "  print(students[1])\n"
     ]
    }
   ],
   "source": [
    "print(students[1])"
   ]
  },
  {
   "cell_type": "code",
   "execution_count": 16,
   "metadata": {},
   "outputs": [
    {
     "name": "stdout",
     "output_type": "stream",
     "text": [
      "name       Luis\n",
      "country     USA\n",
      "dtype: object\n"
     ]
    },
    {
     "name": "stderr",
     "output_type": "stream",
     "text": [
      "/var/folders/dt/lf4ysknn6qzfqykdrps5_pxc0000gn/T/ipykernel_70391/1676510666.py:1: FutureWarning: Series.__getitem__ treating keys as positions is deprecated. In a future version, integer keys will always be treated as labels (consistent with DataFrame behavior). To access a value by position, use `ser.iloc[pos]`\n",
      "  print(students[[0, 1]])\n"
     ]
    }
   ],
   "source": [
    "print(students[[0, 1]])"
   ]
  },
  {
   "cell_type": "code",
   "execution_count": 17,
   "metadata": {},
   "outputs": [
    {
     "name": "stdout",
     "output_type": "stream",
     "text": [
      "40\n"
     ]
    },
    {
     "name": "stderr",
     "output_type": "stream",
     "text": [
      "/var/folders/dt/lf4ysknn6qzfqykdrps5_pxc0000gn/T/ipykernel_70391/2014565878.py:1: FutureWarning: Series.__getitem__ treating keys as positions is deprecated. In a future version, integer keys will always be treated as labels (consistent with DataFrame behavior). To access a value by position, use `ser.iloc[pos]`\n",
      "  print(students[-1])\n"
     ]
    }
   ],
   "source": [
    "print(students[-1])"
   ]
  },
  {
   "cell_type": "code",
   "execution_count": 18,
   "metadata": {},
   "outputs": [
    {
     "name": "stdout",
     "output_type": "stream",
     "text": [
      "Luis\n"
     ]
    }
   ],
   "source": [
    "print(students.loc['name'])"
   ]
  },
  {
   "cell_type": "code",
   "execution_count": 20,
   "metadata": {},
   "outputs": [
    {
     "name": "stdout",
     "output_type": "stream",
     "text": [
      "Luis\n"
     ]
    }
   ],
   "source": [
    "print(students.iloc[0])"
   ]
  },
  {
   "cell_type": "code",
   "execution_count": 33,
   "metadata": {},
   "outputs": [
    {
     "name": "stdout",
     "output_type": "stream",
     "text": [
      "name       Luis\n",
      "country     USA\n",
      "dtype: object\n",
      "******************\n",
      "name       Luis\n",
      "country     USA\n",
      "age          40\n",
      "dtype: object\n"
     ]
    }
   ],
   "source": [
    "# Copy of students without age\n",
    "students_copy = students.drop(['age'])\n",
    "print(students_copy)\n",
    "print(\"******************\")\n",
    "print(students)"
   ]
  },
  {
   "cell_type": "code",
   "execution_count": 34,
   "metadata": {},
   "outputs": [
    {
     "name": "stdout",
     "output_type": "stream",
     "text": [
      "name       Luis\n",
      "country     USA\n",
      "dtype: object\n"
     ]
    }
   ],
   "source": [
    "# Reference of students without age\n",
    "students.drop(['age'], inplace=True)\n",
    "print(students)"
   ]
  },
  {
   "cell_type": "code",
   "execution_count": 36,
   "metadata": {},
   "outputs": [
    {
     "data": {
      "text/plain": [
       "mango     20\n",
       "apple     40\n",
       "banana    60\n",
       "dtype: int64"
      ]
     },
     "execution_count": 36,
     "metadata": {},
     "output_type": "execute_result"
    }
   ],
   "source": [
    "fruits = pd.Series(data=[20, 40, 60], index=['mango', 'apple', 'banana'])\n",
    "fruits"
   ]
  },
  {
   "cell_type": "code",
   "execution_count": 37,
   "metadata": {},
   "outputs": [
    {
     "name": "stdout",
     "output_type": "stream",
     "text": [
      "mango     23\n",
      "apple     43\n",
      "banana    63\n",
      "dtype: int64\n"
     ]
    }
   ],
   "source": [
    "print(fruits + 3)"
   ]
  },
  {
   "cell_type": "code",
   "execution_count": 38,
   "metadata": {},
   "outputs": [
    {
     "name": "stdout",
     "output_type": "stream",
     "text": [
      "mango     17\n",
      "apple     37\n",
      "banana    57\n",
      "dtype: int64\n"
     ]
    }
   ],
   "source": [
    "print(fruits - 3)"
   ]
  },
  {
   "cell_type": "code",
   "execution_count": 39,
   "metadata": {},
   "outputs": [
    {
     "name": "stdout",
     "output_type": "stream",
     "text": [
      "mango      60\n",
      "apple     120\n",
      "banana    180\n",
      "dtype: int64\n"
     ]
    }
   ],
   "source": [
    "print(fruits * 3)"
   ]
  },
  {
   "cell_type": "code",
   "execution_count": 40,
   "metadata": {},
   "outputs": [
    {
     "name": "stdout",
     "output_type": "stream",
     "text": [
      "mango      6.666667\n",
      "apple     13.333333\n",
      "banana    20.000000\n",
      "dtype: float64\n"
     ]
    }
   ],
   "source": [
    "print(fruits / 3)"
   ]
  },
  {
   "cell_type": "code",
   "execution_count": 47,
   "metadata": {},
   "outputs": [
    {
     "name": "stdout",
     "output_type": "stream",
     "text": [
      "mango     2\n",
      "apple     1\n",
      "banana    0\n",
      "dtype: int64\n"
     ]
    }
   ],
   "source": [
    "print(fruits % 3)"
   ]
  },
  {
   "cell_type": "code",
   "execution_count": 49,
   "metadata": {},
   "outputs": [
    {
     "name": "stdout",
     "output_type": "stream",
     "text": [
      "mango      6\n",
      "apple     13\n",
      "banana    20\n",
      "dtype: int64\n"
     ]
    }
   ],
   "source": [
    "print(fruits // 3)"
   ]
  },
  {
   "cell_type": "code",
   "execution_count": 48,
   "metadata": {},
   "outputs": [
    {
     "name": "stdout",
     "output_type": "stream",
     "text": [
      "23\n"
     ]
    }
   ],
   "source": [
    "print(fruists['mango'] + 3)"
   ]
  },
  {
   "cell_type": "code",
   "execution_count": 51,
   "metadata": {},
   "outputs": [
    {
     "name": "stdout",
     "output_type": "stream",
     "text": [
      "banana    600\n",
      "apple     400\n",
      "dtype: int64\n"
     ]
    }
   ],
   "source": [
    "print(fruists[['banana', 'apple']] * 10)"
   ]
  },
  {
   "cell_type": "code",
   "execution_count": 52,
   "metadata": {},
   "outputs": [
    {
     "name": "stdout",
     "output_type": "stream",
     "text": [
      "4.0\n"
     ]
    }
   ],
   "source": [
    "print(fruits.loc['apple'] / 10)"
   ]
  },
  {
   "cell_type": "markdown",
   "metadata": {},
   "source": [
    "## Combine with Numpy"
   ]
  },
  {
   "cell_type": "code",
   "execution_count": 42,
   "metadata": {},
   "outputs": [],
   "source": [
    "import numpy as np"
   ]
  },
  {
   "cell_type": "code",
   "execution_count": 43,
   "metadata": {},
   "outputs": [
    {
     "name": "stdout",
     "output_type": "stream",
     "text": [
      "mango     4.472136\n",
      "apple     6.324555\n",
      "banana    7.745967\n",
      "dtype: float64\n"
     ]
    }
   ],
   "source": [
    "print(np.sqrt(fruits))"
   ]
  },
  {
   "cell_type": "code",
   "execution_count": 44,
   "metadata": {},
   "outputs": [
    {
     "name": "stdout",
     "output_type": "stream",
     "text": [
      "mango     4.851652e+08\n",
      "apple     2.353853e+17\n",
      "banana    1.142007e+26\n",
      "dtype: float64\n"
     ]
    }
   ],
   "source": [
    "print(np.exp(fruits))"
   ]
  },
  {
   "cell_type": "code",
   "execution_count": 46,
   "metadata": {},
   "outputs": [
    {
     "name": "stdout",
     "output_type": "stream",
     "text": [
      "mango      400\n",
      "apple     1600\n",
      "banana    3600\n",
      "dtype: int64\n"
     ]
    }
   ],
   "source": [
    "print(np.power(fruits, 2))"
   ]
  }
 ],
 "metadata": {
  "kernelspec": {
   "display_name": "base",
   "language": "python",
   "name": "python3"
  },
  "language_info": {
   "codemirror_mode": {
    "name": "ipython",
    "version": 3
   },
   "file_extension": ".py",
   "mimetype": "text/x-python",
   "name": "python",
   "nbconvert_exporter": "python",
   "pygments_lexer": "ipython3",
   "version": "3.11.0"
  }
 },
 "nbformat": 4,
 "nbformat_minor": 2
}
