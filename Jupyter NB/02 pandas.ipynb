{
 "cells": [
  {
   "cell_type": "code",
   "execution_count": 2,
   "metadata": {},
   "outputs": [],
   "source": [
    "import pandas as pd"
   ]
  },
  {
   "cell_type": "markdown",
   "metadata": {},
   "source": [
    "## Series"
   ]
  },
  {
   "cell_type": "code",
   "execution_count": 32,
   "metadata": {},
   "outputs": [
    {
     "data": {
      "text/plain": [
       "name       Luis\n",
       "country     USA\n",
       "age          40\n",
       "dtype: object"
      ]
     },
     "execution_count": 32,
     "metadata": {},
     "output_type": "execute_result"
    }
   ],
   "source": [
    "students = pd.Series(data=['Luis', 'USA', 40], index=[\"name\", \"country\", \"age\"])\n",
    "students"
   ]
  },
  {
   "cell_type": "code",
   "execution_count": 9,
   "metadata": {},
   "outputs": [
    {
     "name": "stdout",
     "output_type": "stream",
     "text": [
      "(3,)\n",
      "1\n",
      "3\n",
      "Index(['name', 'country', 'age'], dtype='object')\n",
      "['Luis' 'USA' 40]\n",
      "object\n",
      "None\n",
      "name       Luis\n",
      "country     USA\n",
      "dtype: object\n",
      "country    USA\n",
      "age         40\n",
      "dtype: object\n",
      "count        3\n",
      "unique       3\n",
      "top       Luis\n",
      "freq         1\n",
      "dtype: object\n",
      "True\n",
      "False\n",
      "False\n",
      "name       False\n",
      "country    False\n",
      "age        False\n",
      "dtype: bool\n",
      "name       True\n",
      "country    True\n",
      "age        True\n",
      "dtype: bool\n",
      "age          40\n",
      "country     USA\n",
      "name       Luis\n",
      "dtype: object\n"
     ]
    }
   ],
   "source": [
    "print(students.shape)\n",
    "print(students.ndim)\n",
    "print(students.size)\n",
    "print(students.index)\n",
    "print(students.values)\n",
    "print(students.dtype)\n",
    "print(students.name)\n",
    "print(students.head(2))\n",
    "print(students.tail(2))\n",
    "print(students.describe())\n",
    "print(students.is_unique)\n",
    "print(students.is_monotonic_decreasing)\n",
    "print(students.is_monotonic_increasing)\n",
    "print(students.isnull())\n",
    "print(students.notnull())\n",
    "print(students.sort_index())\n"
   ]
  },
  {
   "cell_type": "code",
   "execution_count": 11,
   "metadata": {},
   "outputs": [
    {
     "name": "stdout",
     "output_type": "stream",
     "text": [
      "True\n"
     ]
    }
   ],
   "source": [
    "print('name' in students)"
   ]
  },
  {
   "cell_type": "markdown",
   "metadata": {},
   "source": [
    "## ADD and Delete Elements on series"
   ]
  },
  {
   "cell_type": "code",
   "execution_count": null,
   "metadata": {},
   "outputs": [
    {
     "name": "stdout",
     "output_type": "stream",
     "text": [
      "40\n"
     ]
    }
   ],
   "source": [
    "print(students['age'])\n",
    "print(students.get('age'))"
   ]
  },
  {
   "cell_type": "code",
   "execution_count": 14,
   "metadata": {},
   "outputs": [
    {
     "name": "stdout",
     "output_type": "stream",
     "text": [
      "name    Luis\n",
      "age       40\n",
      "dtype: object\n"
     ]
    }
   ],
   "source": [
    "print(students[['name', 'age']])"
   ]
  },
  {
   "cell_type": "code",
   "execution_count": 15,
   "metadata": {},
   "outputs": [
    {
     "name": "stdout",
     "output_type": "stream",
     "text": [
      "USA\n"
     ]
    },
    {
     "name": "stderr",
     "output_type": "stream",
     "text": [
      "/var/folders/dt/lf4ysknn6qzfqykdrps5_pxc0000gn/T/ipykernel_70391/1220065647.py:1: FutureWarning: Series.__getitem__ treating keys as positions is deprecated. In a future version, integer keys will always be treated as labels (consistent with DataFrame behavior). To access a value by position, use `ser.iloc[pos]`\n",
      "  print(students[1])\n"
     ]
    }
   ],
   "source": [
    "print(students[1])"
   ]
  },
  {
   "cell_type": "code",
   "execution_count": 16,
   "metadata": {},
   "outputs": [
    {
     "name": "stdout",
     "output_type": "stream",
     "text": [
      "name       Luis\n",
      "country     USA\n",
      "dtype: object\n"
     ]
    },
    {
     "name": "stderr",
     "output_type": "stream",
     "text": [
      "/var/folders/dt/lf4ysknn6qzfqykdrps5_pxc0000gn/T/ipykernel_70391/1676510666.py:1: FutureWarning: Series.__getitem__ treating keys as positions is deprecated. In a future version, integer keys will always be treated as labels (consistent with DataFrame behavior). To access a value by position, use `ser.iloc[pos]`\n",
      "  print(students[[0, 1]])\n"
     ]
    }
   ],
   "source": [
    "print(students[[0, 1]])"
   ]
  },
  {
   "cell_type": "code",
   "execution_count": 17,
   "metadata": {},
   "outputs": [
    {
     "name": "stdout",
     "output_type": "stream",
     "text": [
      "40\n"
     ]
    },
    {
     "name": "stderr",
     "output_type": "stream",
     "text": [
      "/var/folders/dt/lf4ysknn6qzfqykdrps5_pxc0000gn/T/ipykernel_70391/2014565878.py:1: FutureWarning: Series.__getitem__ treating keys as positions is deprecated. In a future version, integer keys will always be treated as labels (consistent with DataFrame behavior). To access a value by position, use `ser.iloc[pos]`\n",
      "  print(students[-1])\n"
     ]
    }
   ],
   "source": [
    "print(students[-1])"
   ]
  },
  {
   "cell_type": "code",
   "execution_count": 18,
   "metadata": {},
   "outputs": [
    {
     "name": "stdout",
     "output_type": "stream",
     "text": [
      "Luis\n"
     ]
    }
   ],
   "source": [
    "print(students.loc['name'])"
   ]
  },
  {
   "cell_type": "code",
   "execution_count": 20,
   "metadata": {},
   "outputs": [
    {
     "name": "stdout",
     "output_type": "stream",
     "text": [
      "Luis\n"
     ]
    }
   ],
   "source": [
    "print(students.iloc[0])"
   ]
  },
  {
   "cell_type": "code",
   "execution_count": 33,
   "metadata": {},
   "outputs": [
    {
     "name": "stdout",
     "output_type": "stream",
     "text": [
      "name       Luis\n",
      "country     USA\n",
      "dtype: object\n",
      "******************\n",
      "name       Luis\n",
      "country     USA\n",
      "age          40\n",
      "dtype: object\n"
     ]
    }
   ],
   "source": [
    "# Copy of students without age\n",
    "students_copy = students.drop(['age'])\n",
    "print(students_copy)\n",
    "print(\"******************\")\n",
    "print(students)"
   ]
  },
  {
   "cell_type": "code",
   "execution_count": 34,
   "metadata": {},
   "outputs": [
    {
     "name": "stdout",
     "output_type": "stream",
     "text": [
      "name       Luis\n",
      "country     USA\n",
      "dtype: object\n"
     ]
    }
   ],
   "source": [
    "# Reference of students without age\n",
    "students.drop(['age'], inplace=True)\n",
    "print(students)"
   ]
  }
 ],
 "metadata": {
  "kernelspec": {
   "display_name": "base",
   "language": "python",
   "name": "python3"
  },
  "language_info": {
   "codemirror_mode": {
    "name": "ipython",
    "version": 3
   },
   "file_extension": ".py",
   "mimetype": "text/x-python",
   "name": "python",
   "nbconvert_exporter": "python",
   "pygments_lexer": "ipython3",
   "version": "3.11.0"
  }
 },
 "nbformat": 4,
 "nbformat_minor": 2
}
