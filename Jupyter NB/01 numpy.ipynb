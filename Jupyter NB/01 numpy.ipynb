{
 "cells": [
  {
   "cell_type": "code",
   "execution_count": 3,
   "metadata": {},
   "outputs": [],
   "source": [
    "import numpy as np\n",
    "import time"
   ]
  },
  {
   "cell_type": "markdown",
   "metadata": {},
   "source": [
    "## Numpy Arrays (narrays)"
   ]
  },
  {
   "cell_type": "code",
   "execution_count": 4,
   "metadata": {},
   "outputs": [
    {
     "name": "stdout",
     "output_type": "stream",
     "text": [
      "1\n",
      "4\n",
      "4\n",
      "3\n"
     ]
    }
   ],
   "source": [
    "x = np.array([1, 2, 3, 4])\n",
    "print(x[0])\n",
    "print(x[3])\n",
    "print(x[-1])\n",
    "print(x[-2])"
   ]
  },
  {
   "cell_type": "code",
   "execution_count": 5,
   "metadata": {},
   "outputs": [
    {
     "name": "stdout",
     "output_type": "stream",
     "text": [
      "[30  2  3 60]\n"
     ]
    }
   ],
   "source": [
    "x[0] = 30\n",
    "x[-1] = 60\n",
    "print(x)"
   ]
  },
  {
   "cell_type": "code",
   "execution_count": 6,
   "metadata": {},
   "outputs": [
    {
     "name": "stdout",
     "output_type": "stream",
     "text": [
      "[[1 2 3 4]\n",
      " [5 6 7 8]]\n",
      "2\n",
      "[[ 1 20  3  4]\n",
      " [ 5  6  7  8]]\n",
      "20\n"
     ]
    }
   ],
   "source": [
    "x = np.array([[1, 2, 3, 4], [5, 6, 7, 8]])\n",
    "print(x)\n",
    "print(x[0, 1])\n",
    "\n",
    "x[0, 1] = 20\n",
    "print(x)\n",
    "print(x[0, 1])"
   ]
  },
  {
   "cell_type": "code",
   "execution_count": 7,
   "metadata": {},
   "outputs": [
    {
     "name": "stdout",
     "output_type": "stream",
     "text": [
      "[1 2 3 4]\n",
      "[3 4]\n",
      "[4]\n"
     ]
    }
   ],
   "source": [
    "#delete \n",
    "x = np.array([1, 2, 3, 4])\n",
    "print(x)\n",
    "\n",
    "x = np.delete(x, [0, 1])\n",
    "print(x)\n",
    "\n",
    "x = np.delete(x, 0)\n",
    "print(x)"
   ]
  },
  {
   "cell_type": "code",
   "execution_count": 8,
   "metadata": {},
   "outputs": [
    {
     "name": "stdout",
     "output_type": "stream",
     "text": [
      "[[1 2 3 4]\n",
      " [5 6 7 8]]\n",
      "******************\n",
      "[[5 6 7 8]]\n",
      "******************\n",
      "[[6 7 8]]\n"
     ]
    }
   ],
   "source": [
    "#axis = 0 = row\n",
    "#axis = 1 = column\n",
    "\n",
    "x = np.array([[1, 2, 3, 4], [5, 6, 7, 8]])\n",
    "print(x)\n",
    "print(\"******************\")\n",
    "#delete row\n",
    "x = np.delete(x, 0, axis=0)\n",
    "print(x)\n",
    "print(\"******************\")\n",
    "#delete column\n",
    "x = np.delete(x, 0, axis=1)\n",
    "print(x)\n",
    "\n",
    "# x = np.delete(x, [0, 1], axis=0)\n",
    "# print(x)\n",
    "\n",
    "# x = np.delete(x, [0, 1], axis=1)\n",
    "# print(x)"
   ]
  },
  {
   "cell_type": "code",
   "execution_count": 9,
   "metadata": {},
   "outputs": [
    {
     "name": "stdout",
     "output_type": "stream",
     "text": [
      "[1 2 3 4]\n",
      "[1 2 3 4 5 6]\n",
      "[1 2 3 4 5 6 7 8]\n"
     ]
    }
   ],
   "source": [
    "#append\n",
    "x = np.array([1, 2, 3, 4])\n",
    "print(x)\n",
    "\n",
    "x = np.append(x, [5, 6])\n",
    "print(x)\n",
    "\n",
    "x = np.append(x, [7, 8])\n",
    "print(x)"
   ]
  },
  {
   "cell_type": "code",
   "execution_count": 10,
   "metadata": {},
   "outputs": [
    {
     "name": "stdout",
     "output_type": "stream",
     "text": [
      "[[1 2 3]\n",
      " [4 5 6]\n",
      " [7 8 9]]\n"
     ]
    }
   ],
   "source": [
    "#axis = 0 = row\n",
    "#axis = 1 = column\n",
    "x = np.array([[1, 2, 3], [4, 5, 6]])\n",
    "x = np.append(x, [[7, 8, 9]], axis=0)\n",
    "print(x)"
   ]
  },
  {
   "cell_type": "code",
   "execution_count": 11,
   "metadata": {},
   "outputs": [
    {
     "name": "stdout",
     "output_type": "stream",
     "text": [
      "[[1 2 3 7]\n",
      " [4 5 6 8]]\n"
     ]
    }
   ],
   "source": [
    "#axis = 0 = row\n",
    "#axis = 1 = column\n",
    "x = np.array([[1, 2, 3], [4, 5, 6]])\n",
    "x = np.append(x, [[7], [8]], axis=1)\n",
    "print(x)"
   ]
  },
  {
   "cell_type": "code",
   "execution_count": 12,
   "metadata": {},
   "outputs": [
    {
     "name": "stdout",
     "output_type": "stream",
     "text": [
      "[1 2 3 4]\n",
      "[1 5 2 3 4]\n",
      "[1 5 7 8 2 3 4]\n",
      "[ 1  5  7  9 10  8  2  3  4]\n"
     ]
    }
   ],
   "source": [
    "#insert \n",
    "x = np.array([1, 2, 3, 4])\n",
    "print(x)\n",
    "\n",
    "x = np.insert(x, 1, 5)\n",
    "print(x)\n",
    "\n",
    "x = np.insert(x, 2, [7, 8])\n",
    "print(x)\n",
    "\n",
    "x = np.insert(x, 3, [9, 10])\n",
    "print(x)\n"
   ]
  },
  {
   "cell_type": "code",
   "execution_count": 13,
   "metadata": {},
   "outputs": [
    {
     "name": "stdout",
     "output_type": "stream",
     "text": [
      "[[1 2 3]\n",
      " [4 5 6]]\n",
      "******************\n",
      "[[1 2 3]\n",
      " [7 8 9]\n",
      " [4 5 6]]\n",
      "******************\n",
      "[[ 1 10  2  3]\n",
      " [ 7 11  8  9]\n",
      " [ 4 12  5  6]]\n"
     ]
    }
   ],
   "source": [
    "x = np.array([[1, 2, 3], [4, 5, 6]])\n",
    "print(x)\n",
    "print(\"******************\")\n",
    "x = np.insert(x, 1, [7, 8, 9], axis=0)\n",
    "print(x)\n",
    "print(\"******************\")\n",
    "x = np.insert(x, 1, [10, 11, 12], axis=1)\n",
    "print(x)"
   ]
  },
  {
   "cell_type": "code",
   "execution_count": 14,
   "metadata": {},
   "outputs": [
    {
     "name": "stdout",
     "output_type": "stream",
     "text": [
      "[[1 2 3]\n",
      " [4 5 6]]\n",
      "******************\n",
      "[[ 1  2  3]\n",
      " [ 4  5  6]\n",
      " [ 7  8  9]\n",
      " [10 11 12]]\n",
      "******************\n",
      "[[ 1  2  3  7  8  9]\n",
      " [ 4  5  6 10 11 12]]\n",
      "******************\n",
      "[[[ 1  7]\n",
      "  [ 2  8]\n",
      "  [ 3  9]]\n",
      "\n",
      " [[ 4 10]\n",
      "  [ 5 11]\n",
      "  [ 6 12]]]\n"
     ]
    }
   ],
   "source": [
    "#column_stack\n",
    "x = np.array([[1, 2, 3], [4, 5, 6]])\n",
    "print(x)\n",
    "print(\"******************\")\n",
    "\n",
    "#vstack\n",
    "x = np.array([[1, 2, 3], [4, 5, 6]])\n",
    "y = np.array([[7, 8, 9], [10, 11, 12]])\n",
    "z = np.vstack((x, y))\n",
    "print(z)\n",
    "print(\"******************\")\n",
    "\n",
    "#hstack\n",
    "x = np.array([[1, 2, 3], [4, 5, 6]])\n",
    "y = np.array([[7, 8, 9], [10, 11, 12]])\n",
    "z = np.hstack((x, y))\n",
    "print(z)\n",
    "print(\"******************\")\n",
    "\n",
    "#dstack\n",
    "x = np.array([[1, 2, 3], [4, 5, 6]])\n",
    "y = np.array([[7, 8, 9], [10, 11, 12]])\n",
    "z = np.dstack((x, y))\n",
    "print(z)\n",
    "\n"
   ]
  },
  {
   "cell_type": "markdown",
   "metadata": {},
   "source": [
    "## Numpy Arrays VS Python Arrays performance"
   ]
  },
  {
   "cell_type": "code",
   "execution_count": 15,
   "metadata": {},
   "outputs": [
    {
     "data": {
      "text/plain": [
       "array([0.56687969, 0.52090624, 0.44398529, ..., 0.38908458, 0.73828924,\n",
       "       0.41016378])"
      ]
     },
     "execution_count": 15,
     "metadata": {},
     "output_type": "execute_result"
    }
   ],
   "source": [
    "x = np.random.random(100000000)\n",
    "x"
   ]
  },
  {
   "cell_type": "code",
   "execution_count": 16,
   "metadata": {},
   "outputs": [
    {
     "name": "stdout",
     "output_type": "stream",
     "text": [
      "mean:  0.5\n",
      "Time:  3.9471869468688965\n"
     ]
    }
   ],
   "source": [
    "start = time.time()\n",
    "mean = sum(x) / len(x)\n",
    "end = time.time()\n",
    "print(\"mean: \", mean.round(2))\n",
    "print(\"Time: \", end - start)"
   ]
  },
  {
   "cell_type": "code",
   "execution_count": 17,
   "metadata": {},
   "outputs": [
    {
     "name": "stdout",
     "output_type": "stream",
     "text": [
      "mean:  0.5\n",
      "Time:  0.02067875862121582\n"
     ]
    }
   ],
   "source": [
    "# numpy\n",
    "start = time.time()\n",
    "mean = np.mean(x)\n",
    "end = time.time()\n",
    "print(\"mean: \", mean.round(2))\n",
    "print(\"Time: \", end - start)"
   ]
  },
  {
   "cell_type": "markdown",
   "metadata": {},
   "source": [
    "## Multi dimensional arrays cwith numpy"
   ]
  },
  {
   "cell_type": "code",
   "execution_count": 18,
   "metadata": {},
   "outputs": [
    {
     "data": {
      "text/plain": [
       "array([4, 5, 6, 7])"
      ]
     },
     "execution_count": 18,
     "metadata": {},
     "output_type": "execute_result"
    }
   ],
   "source": [
    "x = np.array([4, 5, 6, 7])\n",
    "x"
   ]
  },
  {
   "cell_type": "code",
   "execution_count": 19,
   "metadata": {},
   "outputs": [
    {
     "name": "stdout",
     "output_type": "stream",
     "text": [
      "(4,)\n",
      "<class 'numpy.ndarray'>\n",
      "int64\n"
     ]
    }
   ],
   "source": [
    "#shape\n",
    "print(x.shape)\n",
    "\n",
    "#type \n",
    "print(type(x))\n",
    "\n",
    "#dtype\n",
    "print(x.dtype)"
   ]
  },
  {
   "cell_type": "code",
   "execution_count": 20,
   "metadata": {},
   "outputs": [
    {
     "name": "stdout",
     "output_type": "stream",
     "text": [
      "(2,)\n",
      "<class 'numpy.ndarray'>\n",
      "<U5\n"
     ]
    }
   ],
   "source": [
    "x = np.array(['Hello', 'There'])\n",
    "#shape\n",
    "print(x.shape)\n",
    "\n",
    "#type \n",
    "print(type(x))\n",
    "\n",
    "#dtype\n",
    "print(x.dtype)"
   ]
  },
  {
   "cell_type": "code",
   "execution_count": 21,
   "metadata": {},
   "outputs": [
    {
     "data": {
      "text/plain": [
       "array(['2', '4', '5', 'Hello'], dtype='<U21')"
      ]
     },
     "execution_count": 21,
     "metadata": {},
     "output_type": "execute_result"
    }
   ],
   "source": [
    "y = np.array([2, 4, 5, 'Hello'])\n",
    "y"
   ]
  },
  {
   "cell_type": "code",
   "execution_count": 22,
   "metadata": {},
   "outputs": [
    {
     "name": "stdout",
     "output_type": "stream",
     "text": [
      "[[1 2 3]\n",
      " [4 5 6]]\n",
      "(2, 3)\n",
      "int64\n",
      "<class 'numpy.ndarray'>\n"
     ]
    }
   ],
   "source": [
    "x = np.array([[1, 2, 3], [4, 5, 6]])\n",
    "print(x)\n",
    "print(x.shape)\n",
    "print(x.dtype)\n",
    "print(type(x))"
   ]
  },
  {
   "cell_type": "code",
   "execution_count": 23,
   "metadata": {},
   "outputs": [
    {
     "name": "stdout",
     "output_type": "stream",
     "text": [
      "[[1 2 3]\n",
      " [4 5 6]]\n",
      "(2, 3)\n",
      "int64\n",
      "<class 'numpy.ndarray'>\n"
     ]
    }
   ],
   "source": [
    "# Force to be an integer with dtype\n",
    "\n",
    "x = np.array([[1, 2, 3.5], [4, 5, 6]], dtype=np.int64)\n",
    "print(x)\n",
    "print(x.shape)\n",
    "print(x.dtype)\n",
    "print(type(x))"
   ]
  },
  {
   "cell_type": "markdown",
   "metadata": {},
   "source": [
    "## Numpy Function"
   ]
  },
  {
   "cell_type": "code",
   "execution_count": 24,
   "metadata": {},
   "outputs": [
    {
     "name": "stdout",
     "output_type": "stream",
     "text": [
      "[[0. 0. 0. 0.]\n",
      " [0. 0. 0. 0.]\n",
      " [0. 0. 0. 0.]]\n",
      "(3, 4)\n",
      "float64\n",
      "<class 'numpy.ndarray'>\n",
      "******************\n",
      "[[0 0 0 0]\n",
      " [0 0 0 0]\n",
      " [0 0 0 0]]\n",
      "(3, 4)\n",
      "int64\n",
      "<class 'numpy.ndarray'>\n"
     ]
    }
   ],
   "source": [
    "# zeros\n",
    "\n",
    "x = np.zeros((3, 4))\n",
    "print(x)\n",
    "print(x.shape)\n",
    "print(x.dtype)\n",
    "print(type(x))\n",
    "print(\"******************\")\n",
    "\n",
    "x = np.zeros((3, 4), dtype=np.int64)\n",
    "print(x)\n",
    "print(x.shape)\n",
    "print(x.dtype)\n",
    "print(type(x))"
   ]
  },
  {
   "cell_type": "code",
   "execution_count": 25,
   "metadata": {},
   "outputs": [
    {
     "name": "stdout",
     "output_type": "stream",
     "text": [
      "[[1. 1. 1. 1.]\n",
      " [1. 1. 1. 1.]\n",
      " [1. 1. 1. 1.]]\n",
      "(3, 4)\n",
      "float64\n",
      "<class 'numpy.ndarray'>\n",
      "******************\n",
      "[[1 1 1 1]\n",
      " [1 1 1 1]\n",
      " [1 1 1 1]]\n",
      "(3, 4)\n",
      "int64\n",
      "<class 'numpy.ndarray'>\n"
     ]
    }
   ],
   "source": [
    "# ones \n",
    "\n",
    "x = np.ones((3, 4))\n",
    "print(x)\n",
    "print(x.shape)\n",
    "print(x.dtype)\n",
    "print(type(x))\n",
    "print(\"******************\")\n",
    "\n",
    "x = np.ones((3, 4), dtype=np.int64)\n",
    "print(x)\n",
    "print(x.shape)\n",
    "print(x.dtype)\n",
    "print(type(x))"
   ]
  },
  {
   "cell_type": "code",
   "execution_count": 26,
   "metadata": {},
   "outputs": [
    {
     "name": "stdout",
     "output_type": "stream",
     "text": [
      "[[7 7 7 7]\n",
      " [7 7 7 7]\n",
      " [7 7 7 7]]\n"
     ]
    }
   ],
   "source": [
    "x = np.full((3, 4), 7)\n",
    "print(x)"
   ]
  },
  {
   "cell_type": "code",
   "execution_count": 27,
   "metadata": {},
   "outputs": [
    {
     "name": "stdout",
     "output_type": "stream",
     "text": [
      "[[1. 0. 0.]\n",
      " [0. 1. 0.]\n",
      " [0. 0. 1.]]\n",
      "******************\n",
      "[[1. 0. 0. 0.]\n",
      " [0. 1. 0. 0.]\n",
      " [0. 0. 1. 0.]]\n"
     ]
    }
   ],
   "source": [
    "#eye \n",
    "x = np.eye(3)\n",
    "print(x)\n",
    "print(\"******************\")\n",
    "\n",
    "x = np.eye(3, 4)\n",
    "print(x)"
   ]
  },
  {
   "cell_type": "code",
   "execution_count": 28,
   "metadata": {},
   "outputs": [
    {
     "name": "stdout",
     "output_type": "stream",
     "text": [
      "[[1 0 0]\n",
      " [0 2 0]\n",
      " [0 0 3]]\n",
      "******************\n",
      "[[1 0 0]\n",
      " [0 2 0]\n",
      " [0 0 3]]\n",
      "******************\n",
      "[[0 1 0 0]\n",
      " [0 0 2 0]\n",
      " [0 0 0 3]\n",
      " [0 0 0 0]]\n",
      "******************\n",
      "[[0 0 0 0 0]\n",
      " [1 0 0 0 0]\n",
      " [0 2 0 0 0]\n",
      " [0 0 3 0 0]\n",
      " [0 0 0 4 0]]\n",
      "******************\n",
      "[[0 0 1 0 0 0]\n",
      " [0 0 0 2 0 0]\n",
      " [0 0 0 0 3 0]\n",
      " [0 0 0 0 0 4]\n",
      " [0 0 0 0 0 0]\n",
      " [0 0 0 0 0 0]]\n",
      "******************\n"
     ]
    }
   ],
   "source": [
    "#dialog \n",
    "x = np.diag([1, 2, 3])\n",
    "print(x)\n",
    "print(\"******************\")\n",
    "\n",
    "x = np.diag([1, 2, 3], k=0)\n",
    "print(x)\n",
    "print(\"******************\")\n",
    "\n",
    "x = np.diag([1, 2, 3], k=1)\n",
    "print(x)\n",
    "print(\"******************\")\n",
    "\n",
    "x = np.diag([1, 2, 3, 4], k=-1)\n",
    "print(x)\n",
    "print(\"******************\")\n",
    "\n",
    "x = np.diag([1, 2, 3, 4], k=2)\n",
    "print(x)\n",
    "print(\"******************\")\n"
   ]
  },
  {
   "cell_type": "code",
   "execution_count": 29,
   "metadata": {},
   "outputs": [
    {
     "name": "stdout",
     "output_type": "stream",
     "text": [
      "[0 1 2 3 4 5 6 7 8 9]\n",
      "******************\n",
      "[1 2 3 4 5 6 7 8 9]\n",
      "******************\n",
      "[1 3 5 7 9]\n",
      "******************\n",
      "[1 3 5 7 9]\n",
      "******************\n",
      "[1. 3. 5. 7. 9.]\n",
      "******************\n"
     ]
    }
   ],
   "source": [
    "#arrange\n",
    "x = np.arange(10)\n",
    "print(x)\n",
    "print(\"******************\")\n",
    "\n",
    "x = np.arange(1, 10)\n",
    "print(x)\n",
    "print(\"******************\")\n",
    "\n",
    "x = np.arange(1, 10, 2)\n",
    "print(x)\n",
    "print(\"******************\")\n",
    "\n",
    "x = np.arange(1, 10, 2, dtype=np.int64)\n",
    "print(x)\n",
    "print(\"******************\")\n",
    "\n",
    "x = np.arange(1, 10, 2, dtype=np.float64)\n",
    "print(x)\n",
    "print(\"******************\")\n",
    "\n",
    "x = np.arange(1, 10, 2, dtype=np.complex128)"
   ]
  },
  {
   "cell_type": "code",
   "execution_count": 30,
   "metadata": {},
   "outputs": [
    {
     "name": "stdout",
     "output_type": "stream",
     "text": [
      "[ 0.   2.5  5.   7.5 10. ]\n",
      "******************\n",
      "[ 0  2  5  7 10]\n",
      "******************\n",
      "[ 0.   2.5  5.   7.5 10. ]\n",
      "******************\n",
      "[ 0. +0.j  2.5+0.j  5. +0.j  7.5+0.j 10. +0.j]\n",
      "******************\n",
      "[0. 2. 4. 6. 8.]\n"
     ]
    }
   ],
   "source": [
    "#linspace\n",
    "x = np.linspace(0, 10, 5)\n",
    "print(x)\n",
    "print(\"******************\")\n",
    "\n",
    "x = np.linspace(0, 10, 5, dtype=np.int64)\n",
    "print(x)\n",
    "print(\"******************\")\n",
    "\n",
    "x = np.linspace(0, 10, 5, dtype=np.float64)\n",
    "print(x)\n",
    "print(\"******************\")\n",
    "\n",
    "x = np.linspace(0, 10, 5, dtype=np.complex128)\n",
    "print(x)\n",
    "print(\"******************\")\n",
    "\n",
    "x = np.linspace(0, 10, 5, endpoint=False)\n",
    "print(x)"
   ]
  },
  {
   "cell_type": "code",
   "execution_count": 31,
   "metadata": {},
   "outputs": [
    {
     "name": "stdout",
     "output_type": "stream",
     "text": [
      "[[0.5971078  0.74713544 0.60316291 0.02462891]\n",
      " [0.25807253 0.81555613 0.71789374 0.86742603]\n",
      " [0.21850937 0.68989375 0.0972799  0.63829642]]\n",
      "******************\n",
      "[[0.85401214 0.02380468 0.03532195 0.52589139]\n",
      " [0.93072972 0.78699342 0.96769673 0.61585237]\n",
      " [0.11679021 0.11697884 0.4879144  0.40878818]]\n",
      "******************\n",
      "[[[0.71089247 0.30293956 0.6958503  0.64963234 0.64758267]\n",
      "  [0.43312247 0.61700713 0.60543741 0.64014171 0.44508836]\n",
      "  [0.76117097 0.54699281 0.46468055 0.96400616 0.22469976]\n",
      "  [0.37410117 0.0484362  0.28205054 0.02890927 0.14395185]]\n",
      "\n",
      " [[0.59593626 0.64786134 0.60082587 0.89703932 0.79373144]\n",
      "  [0.45272032 0.08571564 0.35906618 0.19832104 0.32804659]\n",
      "  [0.32577462 0.28452537 0.72805451 0.00472306 0.08579553]\n",
      "  [0.1703726  0.08730146 0.31857152 0.92741614 0.49131346]]\n",
      "\n",
      " [[0.9264692  0.70044113 0.53066885 0.20559371 0.41822452]\n",
      "  [0.24293422 0.17245286 0.52609228 0.48493011 0.1305579 ]\n",
      "  [0.10204678 0.33453938 0.33872511 0.73023505 0.51600699]\n",
      "  [0.53759219 0.8571912  0.93703769 0.08443124 0.20794439]]]\n",
      "******************\n"
     ]
    }
   ],
   "source": [
    "# random\n",
    "\n",
    "x = np.random.random((3, 4))\n",
    "print(x)\n",
    "print(\"******************\")\n",
    "\n",
    "x = np.random.rand(3, 4)\n",
    "print(x)\n",
    "print(\"******************\")\n",
    "\n",
    "x = np.random.rand(3, 4, 5)\n",
    "print(x)\n",
    "print(\"******************\")\n",
    "\n",
    "\n"
   ]
  },
  {
   "cell_type": "code",
   "execution_count": 32,
   "metadata": {},
   "outputs": [
    {
     "name": "stdout",
     "output_type": "stream",
     "text": [
      "8\n",
      "******************\n",
      "[9 2 8 1 6]\n",
      "******************\n",
      "[[9 1 8 5]\n",
      " [7 7 7 4]\n",
      " [5 1 5 2]]\n",
      "******************\n",
      "[[[6 3 8 3 1]\n",
      "  [9 9 6 9 5]\n",
      "  [4 6 1 4 9]\n",
      "  [5 1 8 7 6]]\n",
      "\n",
      " [[1 6 1 8 7]\n",
      "  [1 9 8 7 1]\n",
      "  [5 4 9 8 7]\n",
      "  [3 6 2 2 2]]\n",
      "\n",
      " [[5 4 5 3 6]\n",
      "  [5 6 7 2 6]\n",
      "  [9 8 6 2 1]\n",
      "  [1 9 6 5 2]]]\n",
      "******************\n"
     ]
    }
   ],
   "source": [
    "#random.randint\n",
    "x = np.random.randint(1, 10)\n",
    "print(x)\n",
    "print(\"******************\")\n",
    "\n",
    "x = np.random.randint(1, 10, 5)\n",
    "print(x)\n",
    "print(\"******************\")\n",
    "\n",
    "x = np.random.randint(1, 10, (3, 4))\n",
    "print(x)\n",
    "print(\"******************\")\n",
    "\n",
    "x = np.random.randint(1, 10, (3, 4, 5))\n",
    "print(x)\n",
    "print(\"******************\")\n"
   ]
  },
  {
   "cell_type": "code",
   "execution_count": 33,
   "metadata": {},
   "outputs": [
    {
     "name": "stdout",
     "output_type": "stream",
     "text": [
      "[[1 2 3]\n",
      " [4 5 6]]\n",
      "******************\n",
      "[[1 2]\n",
      " [3 4]\n",
      " [5 6]]\n"
     ]
    }
   ],
   "source": [
    "#reshape\n",
    "x = np.array([[1, 2, 3], [4, 5, 6]])\n",
    "print(x)\n",
    "print(\"******************\")\n",
    "y = x.reshape(3, 2)\n",
    "print(y)\n",
    "\n",
    "\n"
   ]
  },
  {
   "cell_type": "markdown",
   "metadata": {},
   "source": [
    "## Slicing"
   ]
  },
  {
   "cell_type": "code",
   "execution_count": 34,
   "metadata": {},
   "outputs": [
    {
     "name": "stdout",
     "output_type": "stream",
     "text": [
      "[[ 0  1  2  3  4]\n",
      " [ 5  6  7  8  9]\n",
      " [10 11 12 13 14]\n",
      " [15 16 17 18 19]]\n"
     ]
    }
   ],
   "source": [
    "x = np.arange(20).reshape(4, 5)\n",
    "print(x)"
   ]
  },
  {
   "cell_type": "code",
   "execution_count": 35,
   "metadata": {},
   "outputs": [
    {
     "name": "stdout",
     "output_type": "stream",
     "text": [
      "[[0 1 2 3 4]]\n",
      "******************\n",
      "[[0 1 2 3 4]\n",
      " [5 6 7 8 9]]\n",
      "******************\n",
      "[[ 0  1  2  3  4]\n",
      " [ 5  6  7  8  9]\n",
      " [10 11 12 13 14]]\n",
      "******************\n"
     ]
    }
   ],
   "source": [
    "#rows\n",
    "z = x[0:1]\n",
    "print(z)\n",
    "print(\"******************\")\n",
    "\n",
    "z = x[0:2]\n",
    "print(z)\n",
    "print(\"******************\")\n",
    "\n",
    "z = x[0:3]\n",
    "print(z)\n",
    "print(\"******************\")"
   ]
  },
  {
   "cell_type": "code",
   "execution_count": 36,
   "metadata": {},
   "outputs": [
    {
     "name": "stdout",
     "output_type": "stream",
     "text": [
      "[[ 0]\n",
      " [ 5]\n",
      " [10]\n",
      " [15]]\n",
      "******************\n",
      "[[0 1]\n",
      " [5 6]]\n",
      "******************\n",
      "[[3 4]\n",
      " [8 9]]\n",
      "******************\n",
      "[[0 2]\n",
      " [5 7]]\n",
      "******************\n"
     ]
    }
   ],
   "source": [
    "#columns\n",
    "z = x[:, 0:1]\n",
    "print(z)\n",
    "print(\"******************\")\n",
    "\n",
    "#rows and columns\n",
    "\n",
    "z = x[0:2, 0:2]\n",
    "print(z)\n",
    "print(\"******************\")\n",
    "\n",
    "z = x[0:2, 3:]\n",
    "print(z)\n",
    "print(\"******************\")\n",
    "\n",
    "#With arrays\n",
    "z = x[0:2, [0, 2]]\n",
    "print(z)\n",
    "print(\"******************\")"
   ]
  },
  {
   "cell_type": "code",
   "execution_count": 37,
   "metadata": {},
   "outputs": [
    {
     "name": "stdout",
     "output_type": "stream",
     "text": [
      "[[ 0  1  2  3  4]\n",
      " [ 5  6  7  8  9]\n",
      " [10 11 12 13 14]\n",
      " [15 16 17 18 19]]\n",
      "\n",
      "\n",
      "[[ 0  1  2  3  4]\n",
      " [ 5  6  7  8  9]\n",
      " [10 11 12 13 14]\n",
      " [15 16 17 18 19]]\n"
     ]
    }
   ],
   "source": [
    "# By reference\n",
    "z = x\n",
    "print(x)\n",
    "print('\\n')\n",
    "print(z)"
   ]
  },
  {
   "cell_type": "code",
   "execution_count": 38,
   "metadata": {},
   "outputs": [
    {
     "name": "stdout",
     "output_type": "stream",
     "text": [
      "[[ 0  1  2  3  4]\n",
      " [ 5 99  7  8  9]\n",
      " [10 11 12 13 14]\n",
      " [15 16 17 18 19]]\n",
      "******************\n",
      "[[ 0  1  2  3  4]\n",
      " [ 5 99  7  8  9]\n",
      " [10 11 12 13 14]\n",
      " [15 16 17 18 19]]\n"
     ]
    }
   ],
   "source": [
    "z[1,1] = 99\n",
    "print(z)\n",
    "print(\"******************\")\n",
    "print(x)"
   ]
  },
  {
   "cell_type": "code",
   "execution_count": 39,
   "metadata": {},
   "outputs": [
    {
     "name": "stdout",
     "output_type": "stream",
     "text": [
      "[[ 0  1  2  3  4]\n",
      " [ 5  6  7  8  9]\n",
      " [10 11 12 13 14]\n",
      " [15 16 17 18 19]]\n"
     ]
    }
   ],
   "source": [
    "x = np.arange(20).reshape(4, 5)\n",
    "print(x)"
   ]
  },
  {
   "cell_type": "code",
   "execution_count": 40,
   "metadata": {},
   "outputs": [
    {
     "name": "stdout",
     "output_type": "stream",
     "text": [
      "[[3 4]\n",
      " [8 9]]\n",
      "[[ 3  4]\n",
      " [ 8 99]]\n",
      "******************\n",
      "[[ 0  1  2  3  4]\n",
      " [ 5  6  7  8  9]\n",
      " [10 11 12 13 14]\n",
      " [15 16 17 18 19]]\n"
     ]
    }
   ],
   "source": [
    "# Copy, not by reference\n",
    "z = x[0:2, 3:].copy()\n",
    "print(z)\n",
    "z[1,1] = 99\n",
    "print(z)\n",
    "print(\"******************\")\n",
    "print(x)"
   ]
  },
  {
   "cell_type": "markdown",
   "metadata": {},
   "source": [
    "## Boolean Index"
   ]
  },
  {
   "cell_type": "code",
   "execution_count": 41,
   "metadata": {},
   "outputs": [
    {
     "name": "stdout",
     "output_type": "stream",
     "text": [
      "[[ 0  1  2  3  4  5  6  7  8  9]\n",
      " [10 11 12 13 14 15 16 17 18 19]\n",
      " [20 21 22 23 24 25 26 27 28 29]\n",
      " [30 31 32 33 34 35 36 37 38 39]\n",
      " [40 41 42 43 44 45 46 47 48 49]]\n"
     ]
    }
   ],
   "source": [
    "x = np.arange(50).reshape(5, 10)\n",
    "print(x)"
   ]
  },
  {
   "cell_type": "code",
   "execution_count": 42,
   "metadata": {},
   "outputs": [
    {
     "name": "stdout",
     "output_type": "stream",
     "text": [
      "[26 27 28 29 30 31 32 33 34 35 36 37 38 39 40 41 42 43 44 45 46 47 48 49]\n"
     ]
    }
   ],
   "source": [
    "y = x[x > 25]\n",
    "print(y)"
   ]
  },
  {
   "cell_type": "code",
   "execution_count": 43,
   "metadata": {},
   "outputs": [
    {
     "name": "stdout",
     "output_type": "stream",
     "text": [
      "[26 27 28 29]\n"
     ]
    }
   ],
   "source": [
    "print(x[ (x>25) & (x<30) ])"
   ]
  },
  {
   "cell_type": "code",
   "execution_count": 44,
   "metadata": {},
   "outputs": [
    {
     "name": "stdout",
     "output_type": "stream",
     "text": [
      "[[  0   1   2   3   4   5   6   7   8   9]\n",
      " [ 10  11  12  13  14  15  16  17  18  19]\n",
      " [ 20  21  22  23  24  25 666 666 666 666]\n",
      " [ 30  31  32  33  34  35  36  37  38  39]\n",
      " [ 40  41  42  43  44  45  46  47  48  49]]\n"
     ]
    }
   ],
   "source": [
    "x[ (x>25) & (x<30) ] = 666\n",
    "print(x)"
   ]
  },
  {
   "cell_type": "code",
   "execution_count": 50,
   "metadata": {},
   "outputs": [
    {
     "name": "stdout",
     "output_type": "stream",
     "text": [
      "[17  6 10 17 22  8  4  9 24  1  9 14  4 16  2  6 11 23 21  3 21 19  5 24\n",
      "  1 22  3 16  1 22 21 10 16 20  5 15 24  1  3 22  8 14 15  1  6 14 12  8\n",
      "  7 17  2  5 21 12  3  9 19  5  8 10 15 17 17  8 14  7 20 13 10 19 22 24\n",
      " 24 20 11 22  2 15 21  7  2  5 24 14 12 12 13  6 21 15 12 17 12  1 10 15\n",
      " 19 16  6 19]\n"
     ]
    }
   ],
   "source": [
    "x = np.random.randint(1, 25, size=(100))\n",
    "print(x)"
   ]
  },
  {
   "cell_type": "code",
   "execution_count": 51,
   "metadata": {},
   "outputs": [
    {
     "name": "stdout",
     "output_type": "stream",
     "text": [
      "[20 20 20]\n"
     ]
    }
   ],
   "source": [
    "print(x[x==20])"
   ]
  },
  {
   "cell_type": "markdown",
   "metadata": {},
   "source": [
    "## Arithmetic operations and broadcasting"
   ]
  },
  {
   "cell_type": "code",
   "execution_count": 52,
   "metadata": {},
   "outputs": [
    {
     "name": "stdout",
     "output_type": "stream",
     "text": [
      "[0 1 2 3]\n",
      "******************\n",
      "[4 5 6 7]\n"
     ]
    }
   ],
   "source": [
    "x = np.arange(4)\n",
    "y = np.arange(4, 8)\n",
    "print(x)\n",
    "print(\"******************\")\n",
    "print(y)"
   ]
  },
  {
   "cell_type": "code",
   "execution_count": 57,
   "metadata": {},
   "outputs": [
    {
     "name": "stdout",
     "output_type": "stream",
     "text": [
      "[[0 1]\n",
      " [2 3]]\n",
      "******************\n",
      "[[4 5]\n",
      " [6 7]]\n"
     ]
    }
   ],
   "source": [
    "x = np.arange(4).reshape(2, 2)\n",
    "y = np.arange(4, 8).reshape(2, 2)\n",
    "print(x)\n",
    "print(\"******************\")\n",
    "print(y)"
   ]
  },
  {
   "cell_type": "code",
   "execution_count": 58,
   "metadata": {},
   "outputs": [
    {
     "name": "stdout",
     "output_type": "stream",
     "text": [
      "[[ 4  6]\n",
      " [ 8 10]]\n",
      "******************\n",
      "[[ 4  6]\n",
      " [ 8 10]]\n"
     ]
    }
   ],
   "source": [
    "print(x + y)\n",
    "print(\"******************\")\n",
    "print(np.add(x, y))"
   ]
  },
  {
   "cell_type": "code",
   "execution_count": 59,
   "metadata": {},
   "outputs": [
    {
     "name": "stdout",
     "output_type": "stream",
     "text": [
      "[[-4 -4]\n",
      " [-4 -4]]\n",
      "******************\n",
      "[[-4 -4]\n",
      " [-4 -4]]\n"
     ]
    }
   ],
   "source": [
    "print(x - y)\n",
    "print(\"******************\")\n",
    "print(np.subtract(x, y))"
   ]
  },
  {
   "cell_type": "code",
   "execution_count": 60,
   "metadata": {},
   "outputs": [
    {
     "name": "stdout",
     "output_type": "stream",
     "text": [
      "[[ 0  5]\n",
      " [12 21]]\n",
      "******************\n",
      "[[ 0  5]\n",
      " [12 21]]\n"
     ]
    }
   ],
   "source": [
    "print(x * y)\n",
    "print(\"******************\")\n",
    "print(np.multiply(x, y))"
   ]
  },
  {
   "cell_type": "code",
   "execution_count": 61,
   "metadata": {},
   "outputs": [
    {
     "name": "stdout",
     "output_type": "stream",
     "text": [
      "[[0.         0.2       ]\n",
      " [0.33333333 0.42857143]]\n",
      "******************\n",
      "[[0.         0.2       ]\n",
      " [0.33333333 0.42857143]]\n"
     ]
    }
   ],
   "source": [
    "print(x / y)\n",
    "print(\"******************\")\n",
    "print(np.divide(x, y))"
   ]
  },
  {
   "cell_type": "code",
   "execution_count": 62,
   "metadata": {},
   "outputs": [
    {
     "name": "stdout",
     "output_type": "stream",
     "text": [
      "[[0.         1.        ]\n",
      " [1.41421356 1.73205081]]\n"
     ]
    }
   ],
   "source": [
    "print(np.sqrt(x))"
   ]
  },
  {
   "cell_type": "code",
   "execution_count": 63,
   "metadata": {},
   "outputs": [
    {
     "name": "stdout",
     "output_type": "stream",
     "text": [
      "[[ 1.          2.71828183]\n",
      " [ 7.3890561  20.08553692]]\n"
     ]
    }
   ],
   "source": [
    "print(np.exp(x))"
   ]
  },
  {
   "cell_type": "code",
   "execution_count": 64,
   "metadata": {},
   "outputs": [
    {
     "name": "stdout",
     "output_type": "stream",
     "text": [
      "[[0 1]\n",
      " [4 9]]\n"
     ]
    }
   ],
   "source": [
    "print(np.power(x,2))"
   ]
  },
  {
   "cell_type": "code",
   "execution_count": 68,
   "metadata": {},
   "outputs": [
    {
     "name": "stdout",
     "output_type": "stream",
     "text": [
      "[[0 1]\n",
      " [2 3]]\n",
      "******************\n",
      "1.5\n",
      "1.118033988749895\n",
      "1.5\n"
     ]
    }
   ],
   "source": [
    "#mean , std, median\n",
    "print(x)\n",
    "print(\"******************\")\n",
    "print(np.mean(x))\n",
    "print(np.std(x))\n",
    "print(np.median(x))"
   ]
  },
  {
   "cell_type": "code",
   "execution_count": 66,
   "metadata": {},
   "outputs": [
    {
     "name": "stdout",
     "output_type": "stream",
     "text": [
      "[1. 2.]\n"
     ]
    }
   ],
   "source": [
    "print(np.mean(x, axis=0))"
   ]
  },
  {
   "cell_type": "code",
   "execution_count": 69,
   "metadata": {},
   "outputs": [
    {
     "name": "stdout",
     "output_type": "stream",
     "text": [
      "3\n",
      "0\n"
     ]
    }
   ],
   "source": [
    "print(np.max(x))\n",
    "print(np.min(x))"
   ]
  },
  {
   "cell_type": "markdown",
   "metadata": {},
   "source": [
    "## Broadcasting"
   ]
  },
  {
   "cell_type": "code",
   "execution_count": 71,
   "metadata": {},
   "outputs": [
    {
     "data": {
      "text/plain": [
       "array([[0, 1],\n",
       "       [2, 3]])"
      ]
     },
     "execution_count": 71,
     "metadata": {},
     "output_type": "execute_result"
    }
   ],
   "source": [
    "x = np.arange(4).reshape(2, 2)\n",
    "x"
   ]
  },
  {
   "cell_type": "code",
   "execution_count": 72,
   "metadata": {},
   "outputs": [
    {
     "name": "stdout",
     "output_type": "stream",
     "text": [
      "[[4 5]\n",
      " [6 7]]\n"
     ]
    }
   ],
   "source": [
    "print(x+4)"
   ]
  },
  {
   "cell_type": "code",
   "execution_count": 73,
   "metadata": {},
   "outputs": [
    {
     "data": {
      "text/plain": [
       "array([7, 8])"
      ]
     },
     "execution_count": 73,
     "metadata": {},
     "output_type": "execute_result"
    }
   ],
   "source": [
    "y = np.array([7, 8])\n",
    "y"
   ]
  },
  {
   "cell_type": "code",
   "execution_count": 74,
   "metadata": {},
   "outputs": [
    {
     "name": "stdout",
     "output_type": "stream",
     "text": [
      "[[ 7  9]\n",
      " [ 9 11]]\n"
     ]
    }
   ],
   "source": [
    "print(x+y)"
   ]
  }
 ],
 "metadata": {
  "kernelspec": {
   "display_name": "base",
   "language": "python",
   "name": "python3"
  },
  "language_info": {
   "codemirror_mode": {
    "name": "ipython",
    "version": 3
   },
   "file_extension": ".py",
   "mimetype": "text/x-python",
   "name": "python",
   "nbconvert_exporter": "python",
   "pygments_lexer": "ipython3",
   "version": "3.11.0"
  }
 },
 "nbformat": 4,
 "nbformat_minor": 2
}
