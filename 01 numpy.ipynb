{
 "cells": [
  {
   "cell_type": "code",
   "execution_count": 51,
   "metadata": {},
   "outputs": [],
   "source": [
    "import numpy as np\n",
    "import time"
   ]
  },
  {
   "cell_type": "markdown",
   "metadata": {},
   "source": [
    "## Numpy Arrays (narrays)"
   ]
  },
  {
   "cell_type": "code",
   "execution_count": 52,
   "metadata": {},
   "outputs": [
    {
     "name": "stdout",
     "output_type": "stream",
     "text": [
      "1\n",
      "4\n",
      "4\n",
      "3\n"
     ]
    }
   ],
   "source": [
    "x = np.array([1, 2, 3, 4])\n",
    "print(x[0])\n",
    "print(x[3])\n",
    "print(x[-1])\n",
    "print(x[-2])"
   ]
  },
  {
   "cell_type": "code",
   "execution_count": 53,
   "metadata": {},
   "outputs": [
    {
     "name": "stdout",
     "output_type": "stream",
     "text": [
      "[30  2  3 60]\n"
     ]
    }
   ],
   "source": [
    "x[0] = 30\n",
    "x[-1] = 60\n",
    "print(x)"
   ]
  },
  {
   "cell_type": "code",
   "execution_count": 54,
   "metadata": {},
   "outputs": [
    {
     "name": "stdout",
     "output_type": "stream",
     "text": [
      "[[1 2 3 4]\n",
      " [5 6 7 8]]\n",
      "2\n",
      "[[ 1 20  3  4]\n",
      " [ 5  6  7  8]]\n",
      "20\n"
     ]
    }
   ],
   "source": [
    "x = np.array([[1, 2, 3, 4], [5, 6, 7, 8]])\n",
    "print(x)\n",
    "print(x[0, 1])\n",
    "\n",
    "x[0, 1] = 20\n",
    "print(x)\n",
    "print(x[0, 1])"
   ]
  },
  {
   "cell_type": "code",
   "execution_count": 55,
   "metadata": {},
   "outputs": [
    {
     "name": "stdout",
     "output_type": "stream",
     "text": [
      "[1 2 3 4]\n",
      "[3 4]\n",
      "[4]\n"
     ]
    }
   ],
   "source": [
    "#delete \n",
    "x = np.array([1, 2, 3, 4])\n",
    "print(x)\n",
    "\n",
    "x = np.delete(x, [0, 1])\n",
    "print(x)\n",
    "\n",
    "x = np.delete(x, 0)\n",
    "print(x)"
   ]
  },
  {
   "cell_type": "code",
   "execution_count": 56,
   "metadata": {},
   "outputs": [
    {
     "name": "stdout",
     "output_type": "stream",
     "text": [
      "[[1 2 3 4]\n",
      " [5 6 7 8]]\n",
      "******************\n",
      "[[5 6 7 8]]\n",
      "******************\n",
      "[[6 7 8]]\n"
     ]
    }
   ],
   "source": [
    "#axis = 0 = row\n",
    "#axis = 1 = column\n",
    "\n",
    "x = np.array([[1, 2, 3, 4], [5, 6, 7, 8]])\n",
    "print(x)\n",
    "print(\"******************\")\n",
    "#delete row\n",
    "x = np.delete(x, 0, axis=0)\n",
    "print(x)\n",
    "print(\"******************\")\n",
    "#delete column\n",
    "x = np.delete(x, 0, axis=1)\n",
    "print(x)\n",
    "\n",
    "# x = np.delete(x, [0, 1], axis=0)\n",
    "# print(x)\n",
    "\n",
    "# x = np.delete(x, [0, 1], axis=1)\n",
    "# print(x)"
   ]
  },
  {
   "cell_type": "code",
   "execution_count": 57,
   "metadata": {},
   "outputs": [
    {
     "name": "stdout",
     "output_type": "stream",
     "text": [
      "[1 2 3 4]\n",
      "[1 2 3 4 5 6]\n",
      "[1 2 3 4 5 6 7 8]\n"
     ]
    }
   ],
   "source": [
    "#append\n",
    "x = np.array([1, 2, 3, 4])\n",
    "print(x)\n",
    "\n",
    "x = np.append(x, [5, 6])\n",
    "print(x)\n",
    "\n",
    "x = np.append(x, [7, 8])\n",
    "print(x)"
   ]
  },
  {
   "cell_type": "code",
   "execution_count": 58,
   "metadata": {},
   "outputs": [
    {
     "name": "stdout",
     "output_type": "stream",
     "text": [
      "[[1 2 3]\n",
      " [4 5 6]\n",
      " [7 8 9]]\n"
     ]
    }
   ],
   "source": [
    "#axis = 0 = row\n",
    "#axis = 1 = column\n",
    "x = np.array([[1, 2, 3], [4, 5, 6]])\n",
    "x = np.append(x, [[7, 8, 9]], axis=0)\n",
    "print(x)"
   ]
  },
  {
   "cell_type": "code",
   "execution_count": 59,
   "metadata": {},
   "outputs": [
    {
     "name": "stdout",
     "output_type": "stream",
     "text": [
      "[[1 2 3 7]\n",
      " [4 5 6 8]]\n"
     ]
    }
   ],
   "source": [
    "#axis = 0 = row\n",
    "#axis = 1 = column\n",
    "x = np.array([[1, 2, 3], [4, 5, 6]])\n",
    "x = np.append(x, [[7], [8]], axis=1)\n",
    "print(x)"
   ]
  },
  {
   "cell_type": "code",
   "execution_count": 60,
   "metadata": {},
   "outputs": [
    {
     "name": "stdout",
     "output_type": "stream",
     "text": [
      "[1 2 3 4]\n",
      "[1 5 2 3 4]\n",
      "[1 5 7 8 2 3 4]\n",
      "[ 1  5  7  9 10  8  2  3  4]\n"
     ]
    }
   ],
   "source": [
    "#insert \n",
    "x = np.array([1, 2, 3, 4])\n",
    "print(x)\n",
    "\n",
    "x = np.insert(x, 1, 5)\n",
    "print(x)\n",
    "\n",
    "x = np.insert(x, 2, [7, 8])\n",
    "print(x)\n",
    "\n",
    "x = np.insert(x, 3, [9, 10])\n",
    "print(x)\n"
   ]
  },
  {
   "cell_type": "code",
   "execution_count": 61,
   "metadata": {},
   "outputs": [
    {
     "name": "stdout",
     "output_type": "stream",
     "text": [
      "[[1 2 3]\n",
      " [4 5 6]]\n",
      "******************\n",
      "[[1 2 3]\n",
      " [7 8 9]\n",
      " [4 5 6]]\n",
      "******************\n",
      "[[ 1 10  2  3]\n",
      " [ 7 11  8  9]\n",
      " [ 4 12  5  6]]\n"
     ]
    }
   ],
   "source": [
    "x = np.array([[1, 2, 3], [4, 5, 6]])\n",
    "print(x)\n",
    "print(\"******************\")\n",
    "x = np.insert(x, 1, [7, 8, 9], axis=0)\n",
    "print(x)\n",
    "print(\"******************\")\n",
    "x = np.insert(x, 1, [10, 11, 12], axis=1)\n",
    "print(x)"
   ]
  },
  {
   "cell_type": "code",
   "execution_count": 62,
   "metadata": {},
   "outputs": [
    {
     "name": "stdout",
     "output_type": "stream",
     "text": [
      "[[1 2 3]\n",
      " [4 5 6]]\n",
      "******************\n",
      "[[ 1  2  3]\n",
      " [ 4  5  6]\n",
      " [ 7  8  9]\n",
      " [10 11 12]]\n",
      "******************\n",
      "[[ 1  2  3  7  8  9]\n",
      " [ 4  5  6 10 11 12]]\n",
      "******************\n",
      "[[[ 1  7]\n",
      "  [ 2  8]\n",
      "  [ 3  9]]\n",
      "\n",
      " [[ 4 10]\n",
      "  [ 5 11]\n",
      "  [ 6 12]]]\n"
     ]
    }
   ],
   "source": [
    "#column_stack\n",
    "x = np.array([[1, 2, 3], [4, 5, 6]])\n",
    "print(x)\n",
    "print(\"******************\")\n",
    "\n",
    "#vstack\n",
    "x = np.array([[1, 2, 3], [4, 5, 6]])\n",
    "y = np.array([[7, 8, 9], [10, 11, 12]])\n",
    "z = np.vstack((x, y))\n",
    "print(z)\n",
    "print(\"******************\")\n",
    "\n",
    "#hstack\n",
    "x = np.array([[1, 2, 3], [4, 5, 6]])\n",
    "y = np.array([[7, 8, 9], [10, 11, 12]])\n",
    "z = np.hstack((x, y))\n",
    "print(z)\n",
    "print(\"******************\")\n",
    "\n",
    "#dstack\n",
    "x = np.array([[1, 2, 3], [4, 5, 6]])\n",
    "y = np.array([[7, 8, 9], [10, 11, 12]])\n",
    "z = np.dstack((x, y))\n",
    "print(z)\n",
    "\n"
   ]
  },
  {
   "cell_type": "markdown",
   "metadata": {},
   "source": [
    "## Numpy Arrays VS Python Arrays performance"
   ]
  },
  {
   "cell_type": "code",
   "execution_count": 63,
   "metadata": {},
   "outputs": [
    {
     "data": {
      "text/plain": [
       "array([0.95476352, 0.68375403, 0.51006334, ..., 0.82205966, 0.99924347,\n",
       "       0.75081953])"
      ]
     },
     "execution_count": 63,
     "metadata": {},
     "output_type": "execute_result"
    }
   ],
   "source": [
    "x = np.random.random(100000000)\n",
    "x"
   ]
  },
  {
   "cell_type": "code",
   "execution_count": 72,
   "metadata": {},
   "outputs": [
    {
     "name": "stdout",
     "output_type": "stream",
     "text": [
      "mean:  0.5\n",
      "Time:  3.291491746902466\n"
     ]
    }
   ],
   "source": [
    "start = time.time()\n",
    "mean = sum(x) / len(x)\n",
    "end = time.time()\n",
    "print(\"mean: \", mean.round(2))\n",
    "print(\"Time: \", end - start)"
   ]
  },
  {
   "cell_type": "code",
   "execution_count": 73,
   "metadata": {},
   "outputs": [
    {
     "name": "stdout",
     "output_type": "stream",
     "text": [
      "mean:  0.5\n",
      "Time:  0.029354095458984375\n"
     ]
    }
   ],
   "source": [
    "# numpy\n",
    "start = time.time()\n",
    "mean = np.mean(x)\n",
    "end = time.time()\n",
    "print(\"mean: \", mean.round(2))\n",
    "print(\"Time: \", end - start)"
   ]
  }
 ],
 "metadata": {
  "kernelspec": {
   "display_name": "base",
   "language": "python",
   "name": "python3"
  },
  "language_info": {
   "codemirror_mode": {
    "name": "ipython",
    "version": 3
   },
   "file_extension": ".py",
   "mimetype": "text/x-python",
   "name": "python",
   "nbconvert_exporter": "python",
   "pygments_lexer": "ipython3",
   "version": "3.11.0"
  }
 },
 "nbformat": 4,
 "nbformat_minor": 2
}
