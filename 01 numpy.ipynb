{
 "cells": [
  {
   "cell_type": "code",
   "execution_count": 51,
   "metadata": {},
   "outputs": [],
   "source": [
    "import numpy as np\n",
    "import time"
   ]
  },
  {
   "cell_type": "markdown",
   "metadata": {},
   "source": [
    "## Numpy Arrays (narrays)"
   ]
  },
  {
   "cell_type": "code",
   "execution_count": 52,
   "metadata": {},
   "outputs": [
    {
     "name": "stdout",
     "output_type": "stream",
     "text": [
      "1\n",
      "4\n",
      "4\n",
      "3\n"
     ]
    }
   ],
   "source": [
    "x = np.array([1, 2, 3, 4])\n",
    "print(x[0])\n",
    "print(x[3])\n",
    "print(x[-1])\n",
    "print(x[-2])"
   ]
  },
  {
   "cell_type": "code",
   "execution_count": 53,
   "metadata": {},
   "outputs": [
    {
     "name": "stdout",
     "output_type": "stream",
     "text": [
      "[30  2  3 60]\n"
     ]
    }
   ],
   "source": [
    "x[0] = 30\n",
    "x[-1] = 60\n",
    "print(x)"
   ]
  },
  {
   "cell_type": "code",
   "execution_count": 54,
   "metadata": {},
   "outputs": [
    {
     "name": "stdout",
     "output_type": "stream",
     "text": [
      "[[1 2 3 4]\n",
      " [5 6 7 8]]\n",
      "2\n",
      "[[ 1 20  3  4]\n",
      " [ 5  6  7  8]]\n",
      "20\n"
     ]
    }
   ],
   "source": [
    "x = np.array([[1, 2, 3, 4], [5, 6, 7, 8]])\n",
    "print(x)\n",
    "print(x[0, 1])\n",
    "\n",
    "x[0, 1] = 20\n",
    "print(x)\n",
    "print(x[0, 1])"
   ]
  },
  {
   "cell_type": "code",
   "execution_count": 55,
   "metadata": {},
   "outputs": [
    {
     "name": "stdout",
     "output_type": "stream",
     "text": [
      "[1 2 3 4]\n",
      "[3 4]\n",
      "[4]\n"
     ]
    }
   ],
   "source": [
    "#delete \n",
    "x = np.array([1, 2, 3, 4])\n",
    "print(x)\n",
    "\n",
    "x = np.delete(x, [0, 1])\n",
    "print(x)\n",
    "\n",
    "x = np.delete(x, 0)\n",
    "print(x)"
   ]
  },
  {
   "cell_type": "code",
   "execution_count": 56,
   "metadata": {},
   "outputs": [
    {
     "name": "stdout",
     "output_type": "stream",
     "text": [
      "[[1 2 3 4]\n",
      " [5 6 7 8]]\n",
      "******************\n",
      "[[5 6 7 8]]\n",
      "******************\n",
      "[[6 7 8]]\n"
     ]
    }
   ],
   "source": [
    "#axis = 0 = row\n",
    "#axis = 1 = column\n",
    "\n",
    "x = np.array([[1, 2, 3, 4], [5, 6, 7, 8]])\n",
    "print(x)\n",
    "print(\"******************\")\n",
    "#delete row\n",
    "x = np.delete(x, 0, axis=0)\n",
    "print(x)\n",
    "print(\"******************\")\n",
    "#delete column\n",
    "x = np.delete(x, 0, axis=1)\n",
    "print(x)\n",
    "\n",
    "# x = np.delete(x, [0, 1], axis=0)\n",
    "# print(x)\n",
    "\n",
    "# x = np.delete(x, [0, 1], axis=1)\n",
    "# print(x)"
   ]
  },
  {
   "cell_type": "code",
   "execution_count": 57,
   "metadata": {},
   "outputs": [
    {
     "name": "stdout",
     "output_type": "stream",
     "text": [
      "[1 2 3 4]\n",
      "[1 2 3 4 5 6]\n",
      "[1 2 3 4 5 6 7 8]\n"
     ]
    }
   ],
   "source": [
    "#append\n",
    "x = np.array([1, 2, 3, 4])\n",
    "print(x)\n",
    "\n",
    "x = np.append(x, [5, 6])\n",
    "print(x)\n",
    "\n",
    "x = np.append(x, [7, 8])\n",
    "print(x)"
   ]
  },
  {
   "cell_type": "code",
   "execution_count": 58,
   "metadata": {},
   "outputs": [
    {
     "name": "stdout",
     "output_type": "stream",
     "text": [
      "[[1 2 3]\n",
      " [4 5 6]\n",
      " [7 8 9]]\n"
     ]
    }
   ],
   "source": [
    "#axis = 0 = row\n",
    "#axis = 1 = column\n",
    "x = np.array([[1, 2, 3], [4, 5, 6]])\n",
    "x = np.append(x, [[7, 8, 9]], axis=0)\n",
    "print(x)"
   ]
  },
  {
   "cell_type": "code",
   "execution_count": 59,
   "metadata": {},
   "outputs": [
    {
     "name": "stdout",
     "output_type": "stream",
     "text": [
      "[[1 2 3 7]\n",
      " [4 5 6 8]]\n"
     ]
    }
   ],
   "source": [
    "#axis = 0 = row\n",
    "#axis = 1 = column\n",
    "x = np.array([[1, 2, 3], [4, 5, 6]])\n",
    "x = np.append(x, [[7], [8]], axis=1)\n",
    "print(x)"
   ]
  },
  {
   "cell_type": "code",
   "execution_count": 60,
   "metadata": {},
   "outputs": [
    {
     "name": "stdout",
     "output_type": "stream",
     "text": [
      "[1 2 3 4]\n",
      "[1 5 2 3 4]\n",
      "[1 5 7 8 2 3 4]\n",
      "[ 1  5  7  9 10  8  2  3  4]\n"
     ]
    }
   ],
   "source": [
    "#insert \n",
    "x = np.array([1, 2, 3, 4])\n",
    "print(x)\n",
    "\n",
    "x = np.insert(x, 1, 5)\n",
    "print(x)\n",
    "\n",
    "x = np.insert(x, 2, [7, 8])\n",
    "print(x)\n",
    "\n",
    "x = np.insert(x, 3, [9, 10])\n",
    "print(x)\n"
   ]
  },
  {
   "cell_type": "code",
   "execution_count": 61,
   "metadata": {},
   "outputs": [
    {
     "name": "stdout",
     "output_type": "stream",
     "text": [
      "[[1 2 3]\n",
      " [4 5 6]]\n",
      "******************\n",
      "[[1 2 3]\n",
      " [7 8 9]\n",
      " [4 5 6]]\n",
      "******************\n",
      "[[ 1 10  2  3]\n",
      " [ 7 11  8  9]\n",
      " [ 4 12  5  6]]\n"
     ]
    }
   ],
   "source": [
    "x = np.array([[1, 2, 3], [4, 5, 6]])\n",
    "print(x)\n",
    "print(\"******************\")\n",
    "x = np.insert(x, 1, [7, 8, 9], axis=0)\n",
    "print(x)\n",
    "print(\"******************\")\n",
    "x = np.insert(x, 1, [10, 11, 12], axis=1)\n",
    "print(x)"
   ]
  },
  {
   "cell_type": "code",
   "execution_count": 62,
   "metadata": {},
   "outputs": [
    {
     "name": "stdout",
     "output_type": "stream",
     "text": [
      "[[1 2 3]\n",
      " [4 5 6]]\n",
      "******************\n",
      "[[ 1  2  3]\n",
      " [ 4  5  6]\n",
      " [ 7  8  9]\n",
      " [10 11 12]]\n",
      "******************\n",
      "[[ 1  2  3  7  8  9]\n",
      " [ 4  5  6 10 11 12]]\n",
      "******************\n",
      "[[[ 1  7]\n",
      "  [ 2  8]\n",
      "  [ 3  9]]\n",
      "\n",
      " [[ 4 10]\n",
      "  [ 5 11]\n",
      "  [ 6 12]]]\n"
     ]
    }
   ],
   "source": [
    "#column_stack\n",
    "x = np.array([[1, 2, 3], [4, 5, 6]])\n",
    "print(x)\n",
    "print(\"******************\")\n",
    "\n",
    "#vstack\n",
    "x = np.array([[1, 2, 3], [4, 5, 6]])\n",
    "y = np.array([[7, 8, 9], [10, 11, 12]])\n",
    "z = np.vstack((x, y))\n",
    "print(z)\n",
    "print(\"******************\")\n",
    "\n",
    "#hstack\n",
    "x = np.array([[1, 2, 3], [4, 5, 6]])\n",
    "y = np.array([[7, 8, 9], [10, 11, 12]])\n",
    "z = np.hstack((x, y))\n",
    "print(z)\n",
    "print(\"******************\")\n",
    "\n",
    "#dstack\n",
    "x = np.array([[1, 2, 3], [4, 5, 6]])\n",
    "y = np.array([[7, 8, 9], [10, 11, 12]])\n",
    "z = np.dstack((x, y))\n",
    "print(z)\n",
    "\n"
   ]
  },
  {
   "cell_type": "markdown",
   "metadata": {},
   "source": [
    "## Numpy Arrays VS Python Arrays performance"
   ]
  },
  {
   "cell_type": "code",
   "execution_count": 63,
   "metadata": {},
   "outputs": [
    {
     "data": {
      "text/plain": [
       "array([0.95476352, 0.68375403, 0.51006334, ..., 0.82205966, 0.99924347,\n",
       "       0.75081953])"
      ]
     },
     "execution_count": 63,
     "metadata": {},
     "output_type": "execute_result"
    }
   ],
   "source": [
    "x = np.random.random(100000000)\n",
    "x"
   ]
  },
  {
   "cell_type": "code",
   "execution_count": 72,
   "metadata": {},
   "outputs": [
    {
     "name": "stdout",
     "output_type": "stream",
     "text": [
      "mean:  0.5\n",
      "Time:  3.291491746902466\n"
     ]
    }
   ],
   "source": [
    "start = time.time()\n",
    "mean = sum(x) / len(x)\n",
    "end = time.time()\n",
    "print(\"mean: \", mean.round(2))\n",
    "print(\"Time: \", end - start)"
   ]
  },
  {
   "cell_type": "code",
   "execution_count": 73,
   "metadata": {},
   "outputs": [
    {
     "name": "stdout",
     "output_type": "stream",
     "text": [
      "mean:  0.5\n",
      "Time:  0.029354095458984375\n"
     ]
    }
   ],
   "source": [
    "# numpy\n",
    "start = time.time()\n",
    "mean = np.mean(x)\n",
    "end = time.time()\n",
    "print(\"mean: \", mean.round(2))\n",
    "print(\"Time: \", end - start)"
   ]
  },
  {
   "cell_type": "markdown",
   "metadata": {},
   "source": [
    "## Multi dimensional arrays cwith numpy"
   ]
  },
  {
   "cell_type": "code",
   "execution_count": 74,
   "metadata": {},
   "outputs": [
    {
     "data": {
      "text/plain": [
       "array([4, 5, 6, 7])"
      ]
     },
     "execution_count": 74,
     "metadata": {},
     "output_type": "execute_result"
    }
   ],
   "source": [
    "x = np.array([4, 5, 6, 7])\n",
    "x"
   ]
  },
  {
   "cell_type": "code",
   "execution_count": null,
   "metadata": {},
   "outputs": [
    {
     "name": "stdout",
     "output_type": "stream",
     "text": [
      "(4,)\n",
      "<class 'numpy.ndarray'>\n",
      "int64\n"
     ]
    }
   ],
   "source": [
    "#shape\n",
    "print(x.shape)\n",
    "\n",
    "#type \n",
    "print(type(x))\n",
    "\n",
    "#dtype\n",
    "print(x.dtype)"
   ]
  },
  {
   "cell_type": "code",
   "execution_count": 83,
   "metadata": {},
   "outputs": [
    {
     "name": "stdout",
     "output_type": "stream",
     "text": [
      "(2,)\n",
      "<class 'numpy.ndarray'>\n",
      "<U5\n"
     ]
    }
   ],
   "source": [
    "x = np.array(['Hello', 'There'])\n",
    "#shape\n",
    "print(x.shape)\n",
    "\n",
    "#type \n",
    "print(type(x))\n",
    "\n",
    "#dtype\n",
    "print(x.dtype)"
   ]
  },
  {
   "cell_type": "code",
   "execution_count": 86,
   "metadata": {},
   "outputs": [
    {
     "data": {
      "text/plain": [
       "array(['2', '4', '5', 'Hello'], dtype='<U21')"
      ]
     },
     "execution_count": 86,
     "metadata": {},
     "output_type": "execute_result"
    }
   ],
   "source": [
    "y = np.array([2, 4, 5, 'Hello'])\n",
    "y"
   ]
  },
  {
   "cell_type": "code",
   "execution_count": null,
   "metadata": {},
   "outputs": [
    {
     "name": "stdout",
     "output_type": "stream",
     "text": [
      "[[1 2 3]\n",
      " [4 5 6]]\n",
      "(2, 3)\n",
      "int64\n",
      "<class 'numpy.ndarray'>\n"
     ]
    }
   ],
   "source": [
    "x = np.array([[1, 2, 3], [4, 5, 6]])\n",
    "print(x)\n",
    "print(x.shape)\n",
    "print(x.dtype)\n",
    "print(type(x))"
   ]
  },
  {
   "cell_type": "code",
   "execution_count": 89,
   "metadata": {},
   "outputs": [
    {
     "name": "stdout",
     "output_type": "stream",
     "text": [
      "[[1 2 3]\n",
      " [4 5 6]]\n",
      "(2, 3)\n",
      "int64\n",
      "<class 'numpy.ndarray'>\n"
     ]
    }
   ],
   "source": [
    "# Force to be an integer with dtype\n",
    "\n",
    "x = np.array([[1, 2, 3.5], [4, 5, 6]], dtype=np.int64)\n",
    "print(x)\n",
    "print(x.shape)\n",
    "print(x.dtype)\n",
    "print(type(x))"
   ]
  },
  {
   "cell_type": "markdown",
   "metadata": {},
   "source": [
    "## Numpy Function"
   ]
  },
  {
   "cell_type": "code",
   "execution_count": null,
   "metadata": {},
   "outputs": [
    {
     "name": "stdout",
     "output_type": "stream",
     "text": [
      "[[0. 0. 0. 0.]\n",
      " [0. 0. 0. 0.]\n",
      " [0. 0. 0. 0.]]\n",
      "(3, 4)\n",
      "float64\n",
      "<class 'numpy.ndarray'>\n",
      "******************\n",
      "[[0 0 0 0]\n",
      " [0 0 0 0]\n",
      " [0 0 0 0]]\n",
      "(3, 4)\n",
      "int64\n",
      "<class 'numpy.ndarray'>\n"
     ]
    }
   ],
   "source": [
    "# zeros\n",
    "\n",
    "x = np.zeros((3, 4))\n",
    "print(x)\n",
    "print(x.shape)\n",
    "print(x.dtype)\n",
    "print(type(x))\n",
    "print(\"******************\")\n",
    "\n",
    "x = np.zeros((3, 4), dtype=np.int64)\n",
    "print(x)\n",
    "print(x.shape)\n",
    "print(x.dtype)\n",
    "print(type(x))"
   ]
  },
  {
   "cell_type": "code",
   "execution_count": 95,
   "metadata": {},
   "outputs": [
    {
     "name": "stdout",
     "output_type": "stream",
     "text": [
      "[[1. 1. 1. 1.]\n",
      " [1. 1. 1. 1.]\n",
      " [1. 1. 1. 1.]]\n",
      "(3, 4)\n",
      "float64\n",
      "<class 'numpy.ndarray'>\n",
      "******************\n",
      "[[1 1 1 1]\n",
      " [1 1 1 1]\n",
      " [1 1 1 1]]\n",
      "(3, 4)\n",
      "int64\n",
      "<class 'numpy.ndarray'>\n"
     ]
    }
   ],
   "source": [
    "# ones \n",
    "\n",
    "x = np.ones((3, 4))\n",
    "print(x)\n",
    "print(x.shape)\n",
    "print(x.dtype)\n",
    "print(type(x))\n",
    "print(\"******************\")\n",
    "\n",
    "x = np.ones((3, 4), dtype=np.int64)\n",
    "print(x)\n",
    "print(x.shape)\n",
    "print(x.dtype)\n",
    "print(type(x))"
   ]
  },
  {
   "cell_type": "code",
   "execution_count": 96,
   "metadata": {},
   "outputs": [
    {
     "name": "stdout",
     "output_type": "stream",
     "text": [
      "[[7 7 7 7]\n",
      " [7 7 7 7]\n",
      " [7 7 7 7]]\n"
     ]
    }
   ],
   "source": [
    "x = np.full((3, 4), 7)\n",
    "print(x)"
   ]
  },
  {
   "cell_type": "code",
   "execution_count": 98,
   "metadata": {},
   "outputs": [
    {
     "name": "stdout",
     "output_type": "stream",
     "text": [
      "[[1. 0. 0.]\n",
      " [0. 1. 0.]\n",
      " [0. 0. 1.]]\n",
      "******************\n",
      "[[1. 0. 0. 0.]\n",
      " [0. 1. 0. 0.]\n",
      " [0. 0. 1. 0.]]\n"
     ]
    }
   ],
   "source": [
    "#eye \n",
    "x = np.eye(3)\n",
    "print(x)\n",
    "print(\"******************\")\n",
    "\n",
    "x = np.eye(3, 4)\n",
    "print(x)"
   ]
  },
  {
   "cell_type": "code",
   "execution_count": 103,
   "metadata": {},
   "outputs": [
    {
     "name": "stdout",
     "output_type": "stream",
     "text": [
      "[[1 0 0]\n",
      " [0 2 0]\n",
      " [0 0 3]]\n",
      "******************\n",
      "[[1 0 0]\n",
      " [0 2 0]\n",
      " [0 0 3]]\n",
      "******************\n",
      "[[0 1 0 0]\n",
      " [0 0 2 0]\n",
      " [0 0 0 3]\n",
      " [0 0 0 0]]\n",
      "******************\n",
      "[[0 0 0 0 0]\n",
      " [1 0 0 0 0]\n",
      " [0 2 0 0 0]\n",
      " [0 0 3 0 0]\n",
      " [0 0 0 4 0]]\n",
      "******************\n",
      "[[0 0 1 0 0 0]\n",
      " [0 0 0 2 0 0]\n",
      " [0 0 0 0 3 0]\n",
      " [0 0 0 0 0 4]\n",
      " [0 0 0 0 0 0]\n",
      " [0 0 0 0 0 0]]\n",
      "******************\n"
     ]
    }
   ],
   "source": [
    "#dialog \n",
    "x = np.diag([1, 2, 3])\n",
    "print(x)\n",
    "print(\"******************\")\n",
    "\n",
    "x = np.diag([1, 2, 3], k=0)\n",
    "print(x)\n",
    "print(\"******************\")\n",
    "\n",
    "x = np.diag([1, 2, 3], k=1)\n",
    "print(x)\n",
    "print(\"******************\")\n",
    "\n",
    "x = np.diag([1, 2, 3, 4], k=-1)\n",
    "print(x)\n",
    "print(\"******************\")\n",
    "\n",
    "x = np.diag([1, 2, 3, 4], k=2)\n",
    "print(x)\n",
    "print(\"******************\")\n"
   ]
  },
  {
   "cell_type": "code",
   "execution_count": 104,
   "metadata": {},
   "outputs": [
    {
     "name": "stdout",
     "output_type": "stream",
     "text": [
      "[0 1 2 3 4 5 6 7 8 9]\n",
      "******************\n",
      "[1 2 3 4 5 6 7 8 9]\n",
      "******************\n",
      "[1 3 5 7 9]\n",
      "******************\n",
      "[1 3 5 7 9]\n",
      "******************\n",
      "[1. 3. 5. 7. 9.]\n",
      "******************\n"
     ]
    }
   ],
   "source": [
    "#arrange\n",
    "x = np.arange(10)\n",
    "print(x)\n",
    "print(\"******************\")\n",
    "\n",
    "x = np.arange(1, 10)\n",
    "print(x)\n",
    "print(\"******************\")\n",
    "\n",
    "x = np.arange(1, 10, 2)\n",
    "print(x)\n",
    "print(\"******************\")\n",
    "\n",
    "x = np.arange(1, 10, 2, dtype=np.int64)\n",
    "print(x)\n",
    "print(\"******************\")\n",
    "\n",
    "x = np.arange(1, 10, 2, dtype=np.float64)\n",
    "print(x)\n",
    "print(\"******************\")\n",
    "\n",
    "x = np.arange(1, 10, 2, dtype=np.complex128)"
   ]
  },
  {
   "cell_type": "code",
   "execution_count": 106,
   "metadata": {},
   "outputs": [
    {
     "name": "stdout",
     "output_type": "stream",
     "text": [
      "[ 0.   2.5  5.   7.5 10. ]\n",
      "******************\n",
      "[ 0  2  5  7 10]\n",
      "******************\n",
      "[ 0.   2.5  5.   7.5 10. ]\n",
      "******************\n",
      "[ 0. +0.j  2.5+0.j  5. +0.j  7.5+0.j 10. +0.j]\n",
      "******************\n",
      "[0. 2. 4. 6. 8.]\n"
     ]
    }
   ],
   "source": [
    "#linspace\n",
    "x = np.linspace(0, 10, 5)\n",
    "print(x)\n",
    "print(\"******************\")\n",
    "\n",
    "x = np.linspace(0, 10, 5, dtype=np.int64)\n",
    "print(x)\n",
    "print(\"******************\")\n",
    "\n",
    "x = np.linspace(0, 10, 5, dtype=np.float64)\n",
    "print(x)\n",
    "print(\"******************\")\n",
    "\n",
    "x = np.linspace(0, 10, 5, dtype=np.complex128)\n",
    "print(x)\n",
    "print(\"******************\")\n",
    "\n",
    "x = np.linspace(0, 10, 5, endpoint=False)\n",
    "print(x)"
   ]
  },
  {
   "cell_type": "code",
   "execution_count": 114,
   "metadata": {},
   "outputs": [
    {
     "name": "stdout",
     "output_type": "stream",
     "text": [
      "[[0.14566172 0.45979764 0.60490423 0.60442619]\n",
      " [0.69759311 0.68110324 0.13730662 0.73285113]\n",
      " [0.15484532 0.64036804 0.73383748 0.76428698]]\n",
      "******************\n",
      "[[0.17440145 0.01877628 0.46028254 0.5699427 ]\n",
      " [0.39506217 0.67788768 0.80634132 0.17901238]\n",
      " [0.09324627 0.25639078 0.92965984 0.8043229 ]]\n",
      "******************\n",
      "[[[0.5060782  0.50686755 0.19994178 0.24544607 0.84581651]\n",
      "  [0.24937968 0.66426497 0.7593272  0.17342149 0.82284093]\n",
      "  [0.2025301  0.2567739  0.4480961  0.30159802 0.43850985]\n",
      "  [0.22055923 0.29599691 0.44361647 0.22518783 0.6672893 ]]\n",
      "\n",
      " [[0.76740139 0.10202354 0.55694894 0.97832872 0.85438398]\n",
      "  [0.60427944 0.45239904 0.36520956 0.17364138 0.04082092]\n",
      "  [0.46116389 0.0297012  0.44030201 0.3751076  0.61864829]\n",
      "  [0.97371995 0.38602033 0.02951094 0.88040587 0.92743492]]\n",
      "\n",
      " [[0.54241191 0.42699062 0.84281018 0.14551192 0.89299846]\n",
      "  [0.79073792 0.10389921 0.47799267 0.78756681 0.30996928]\n",
      "  [0.8768267  0.08922897 0.81863992 0.72112108 0.61158134]\n",
      "  [0.64554373 0.39674944 0.70594373 0.5293492  0.68673615]]]\n",
      "******************\n"
     ]
    }
   ],
   "source": [
    "# random\n",
    "\n",
    "x = np.random.random((3, 4))\n",
    "print(x)\n",
    "print(\"******************\")\n",
    "\n",
    "x = np.random.rand(3, 4)\n",
    "print(x)\n",
    "print(\"******************\")\n",
    "\n",
    "x = np.random.rand(3, 4, 5)\n",
    "print(x)\n",
    "print(\"******************\")\n",
    "\n",
    "\n"
   ]
  },
  {
   "cell_type": "code",
   "execution_count": 111,
   "metadata": {},
   "outputs": [
    {
     "name": "stdout",
     "output_type": "stream",
     "text": [
      "5\n",
      "******************\n",
      "[9 5 1 9 2]\n",
      "******************\n",
      "[[6 2 4 5]\n",
      " [1 6 5 5]\n",
      " [4 9 9 1]]\n",
      "******************\n",
      "[[[9 8 9 9 7]\n",
      "  [6 9 1 5 8]\n",
      "  [6 3 5 7 1]\n",
      "  [6 4 1 9 1]]\n",
      "\n",
      " [[9 9 5 2 7]\n",
      "  [4 4 2 9 2]\n",
      "  [5 3 1 5 6]\n",
      "  [3 2 3 6 6]]\n",
      "\n",
      " [[8 6 9 5 7]\n",
      "  [7 9 5 1 2]\n",
      "  [4 8 6 4 9]\n",
      "  [1 5 3 4 4]]]\n",
      "******************\n"
     ]
    }
   ],
   "source": [
    "#random.randint\n",
    "x = np.random.randint(1, 10)\n",
    "print(x)\n",
    "print(\"******************\")\n",
    "\n",
    "x = np.random.randint(1, 10, 5)\n",
    "print(x)\n",
    "print(\"******************\")\n",
    "\n",
    "x = np.random.randint(1, 10, (3, 4))\n",
    "print(x)\n",
    "print(\"******************\")\n",
    "\n",
    "x = np.random.randint(1, 10, (3, 4, 5))\n",
    "print(x)\n",
    "print(\"******************\")\n"
   ]
  },
  {
   "cell_type": "code",
   "execution_count": 119,
   "metadata": {},
   "outputs": [
    {
     "name": "stdout",
     "output_type": "stream",
     "text": [
      "[[1 2 3]\n",
      " [4 5 6]]\n",
      "******************\n",
      "[[1 2]\n",
      " [3 4]\n",
      " [5 6]]\n"
     ]
    }
   ],
   "source": [
    "#reshape\n",
    "x = np.array([[1, 2, 3], [4, 5, 6]])\n",
    "print(x)\n",
    "print(\"******************\")\n",
    "y = x.reshape(3, 2)\n",
    "print(y)\n",
    "\n",
    "\n"
   ]
  },
  {
   "cell_type": "markdown",
   "metadata": {},
   "source": [
    "## Slicing"
   ]
  },
  {
   "cell_type": "code",
   "execution_count": null,
   "metadata": {},
   "outputs": [],
   "source": []
  }
 ],
 "metadata": {
  "kernelspec": {
   "display_name": "base",
   "language": "python",
   "name": "python3"
  },
  "language_info": {
   "codemirror_mode": {
    "name": "ipython",
    "version": 3
   },
   "file_extension": ".py",
   "mimetype": "text/x-python",
   "name": "python",
   "nbconvert_exporter": "python",
   "pygments_lexer": "ipython3",
   "version": "3.11.0"
  }
 },
 "nbformat": 4,
 "nbformat_minor": 2
}
